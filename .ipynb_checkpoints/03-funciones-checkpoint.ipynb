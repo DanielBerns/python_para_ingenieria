{
 "cells": [
  {
   "cell_type": "markdown",
   "metadata": {},
   "source": [
    "# Funciones, o como escribir un programa"
   ]
  },
  {
   "cell_type": "markdown",
   "metadata": {},
   "source": [
    "Si nos preguntamos que es un programa, la primer respuesta que nos deberíamos dar es que es una solución a un problema que tenemos.\n",
    "\n",
    "Por lo tanto, si vamos a escribir un programa nos tenemos que preguntar que problema deseamos resolver. "
   ]
  },
  {
   "cell_type": "markdown",
   "metadata": {},
   "source": [
    "## El problema a resolver\n",
    "Supongamos que tenemos un déposito bancario de $1000 que nos da un interés del 1 por ciento por mes.\n",
    "Cuanto dinero vamos a tener después de 12 meses?"
   ]
  },
  {
   "cell_type": "markdown",
   "metadata": {},
   "source": [
    "Si este es el problema, tenemos que pensar cuál es el resultado y cuales son los datos.\n",
    "\n",
    "Resultado: la cantidad de dinero depositada al cabo de 12 meses\n",
    "Datos: la cantidad de dinero inicial, y la tasa de interés mensual\n",
    "\n",
    "Entonces, como calculamos el resultado?\n",
    "\n",
    "Lo que sabemos es que el banco promete esto:\n",
    "\n",
    "**el dinero depósitado el próximo mes va a ser el dinero depositado este mes más un monto similar determinado por la tasa de interés mensual**\n",
    "\n",
    "cantidad_siguiente = cantidad_actual + cantidad_actual * tasa_de_interes / 100\n",
    "\n",
    "Con esto vamos a escribir en python lo que sabemos hasta ahora"
   ]
  },
  {
   "cell_type": "code",
   "execution_count": 5,
   "metadata": {},
   "outputs": [
    {
     "name": "stdout",
     "output_type": "stream",
     "text": [
      "1000  -->  1010.0\n"
     ]
    }
   ],
   "source": [
    "# Primera versión\n",
    "cantidad_actual = 1000\n",
    "tasa_de_interes = 1\n",
    "cantidad_siguiente = cantidad_actual + cantidad_actual * tasa_de_interes / 100\n",
    "print(cantidad_actual, ' --> ', cantidad_siguiente)"
   ]
  },
  {
   "cell_type": "markdown",
   "metadata": {},
   "source": [
    "## Soluciones posibles"
   ]
  },
  {
   "cell_type": "markdown",
   "metadata": {},
   "source": [
    "Lo que hicimos hasta ahora es para un mes, pero necesitamos hacerlo para 12 meses. Podemos repetirlo de varias formas:"
   ]
  },
  {
   "cell_type": "code",
   "execution_count": 4,
   "metadata": {},
   "outputs": [
    {
     "name": "stdout",
     "output_type": "stream",
     "text": [
      "1000  -->  1010.0\n",
      "1010.0  -->  1020.1\n",
      "1020.1  -->  1030.301\n",
      "1030.301  -->  1040.60401\n",
      "1040.60401  -->  1051.0100501\n",
      "1051.0100501  -->  1061.5201506009998\n",
      "1061.5201506009998  -->  1072.1353521070098\n",
      "1072.1353521070098  -->  1082.85670562808\n",
      "1082.85670562808  -->  1093.6852726843606\n",
      "1093.6852726843606  -->  1104.6221254112043\n",
      "1104.6221254112043  -->  1115.6683466653162\n",
      "1115.6683466653162  -->  1126.8250301319695\n"
     ]
    }
   ],
   "source": [
    "# Código repetido manualmente\n",
    "cantidad_actual = 1000\n",
    "tasa_de_interes = 1\n",
    "# Primer mes\n",
    "cantidad_siguiente = cantidad_actual + cantidad_actual * tasa_de_interes / 100\n",
    "print(cantidad_actual, ' --> ', cantidad_siguiente)\n",
    "cantidad_actual = cantidad_siguiente\n",
    "# Segundo mes\n",
    "cantidad_siguiente = cantidad_actual + cantidad_actual * tasa_de_interes / 100\n",
    "print(cantidad_actual, ' --> ', cantidad_siguiente)\n",
    "cantidad_actual = cantidad_siguiente\n",
    "# Tercer mes\n",
    "cantidad_siguiente = cantidad_actual + cantidad_actual * tasa_de_interes / 100\n",
    "print(cantidad_actual, ' --> ', cantidad_siguiente)\n",
    "cantidad_actual = cantidad_siguiente\n",
    "# Cuarto mes\n",
    "cantidad_siguiente = cantidad_actual + cantidad_actual * tasa_de_interes / 100\n",
    "print(cantidad_actual, ' --> ', cantidad_siguiente)\n",
    "cantidad_actual = cantidad_siguiente\n",
    "# Quinto mes\n",
    "cantidad_siguiente = cantidad_actual + cantidad_actual * tasa_de_interes / 100\n",
    "print(cantidad_actual, ' --> ', cantidad_siguiente)\n",
    "cantidad_actual = cantidad_siguiente\n",
    "# Sexto mes\n",
    "cantidad_siguiente = cantidad_actual + cantidad_actual * tasa_de_interes / 100\n",
    "print(cantidad_actual, ' --> ', cantidad_siguiente)\n",
    "cantidad_actual = cantidad_siguiente\n",
    "# Septimo mes\n",
    "cantidad_siguiente = cantidad_actual + cantidad_actual * tasa_de_interes / 100\n",
    "print(cantidad_actual, ' --> ', cantidad_siguiente)\n",
    "cantidad_actual = cantidad_siguiente\n",
    "# Octavo mes\n",
    "cantidad_siguiente = cantidad_actual + cantidad_actual * tasa_de_interes / 100\n",
    "print(cantidad_actual, ' --> ', cantidad_siguiente)\n",
    "cantidad_actual = cantidad_siguiente\n",
    "# Noveno mes\n",
    "cantidad_siguiente = cantidad_actual + cantidad_actual * tasa_de_interes / 100\n",
    "print(cantidad_actual, ' --> ', cantidad_siguiente)\n",
    "cantidad_actual = cantidad_siguiente\n",
    "# Decimo mes\n",
    "cantidad_siguiente = cantidad_actual + cantidad_actual * tasa_de_interes / 100\n",
    "print(cantidad_actual, ' --> ', cantidad_siguiente)\n",
    "cantidad_actual = cantidad_siguiente\n",
    "# Undecimo mes\n",
    "cantidad_siguiente = cantidad_actual + cantidad_actual * tasa_de_interes / 100\n",
    "print(cantidad_actual, ' --> ', cantidad_siguiente)\n",
    "cantidad_actual = cantidad_siguiente\n",
    "# Duodecimo mes\n",
    "cantidad_siguiente = cantidad_actual + cantidad_actual * tasa_de_interes / 100\n",
    "print(cantidad_actual, ' --> ', cantidad_siguiente)\n",
    "cantidad_actual = cantidad_siguiente"
   ]
  },
  {
   "cell_type": "code",
   "execution_count": 6,
   "metadata": {},
   "outputs": [
    {
     "name": "stdout",
     "output_type": "stream",
     "text": [
      "1000  -->  1010.0\n",
      "1010.0  -->  1020.1\n",
      "1020.1  -->  1030.301\n",
      "1030.301  -->  1040.60401\n",
      "1040.60401  -->  1051.0100501\n",
      "1051.0100501  -->  1061.5201506009998\n",
      "1061.5201506009998  -->  1072.1353521070098\n",
      "1072.1353521070098  -->  1082.85670562808\n",
      "1082.85670562808  -->  1093.6852726843606\n",
      "1093.6852726843606  -->  1104.6221254112043\n",
      "1104.6221254112043  -->  1115.6683466653162\n",
      "1115.6683466653162  -->  1126.8250301319695\n"
     ]
    }
   ],
   "source": [
    "# Código con ciclo for\n",
    "cantidad_actual = 1000\n",
    "tasa_de_interes = 1\n",
    "for mes in range(12):\n",
    "    cantidad_siguiente = cantidad_actual + cantidad_actual * tasa_de_interes / 100\n",
    "    print(cantidad_actual, ' --> ', cantidad_siguiente)\n",
    "    cantidad_actual = cantidad_siguiente"
   ]
  },
  {
   "cell_type": "code",
   "execution_count": 7,
   "metadata": {},
   "outputs": [
    {
     "name": "stdout",
     "output_type": "stream",
     "text": [
      "1000  -->  1010.0\n",
      "1010.0  -->  1020.1\n",
      "1020.1  -->  1030.301\n",
      "1030.301  -->  1040.60401\n",
      "1040.60401  -->  1051.0100501\n",
      "1051.0100501  -->  1061.5201506009998\n",
      "1061.5201506009998  -->  1072.1353521070098\n",
      "1072.1353521070098  -->  1082.85670562808\n",
      "1082.85670562808  -->  1093.6852726843606\n",
      "1093.6852726843606  -->  1104.6221254112043\n",
      "1104.6221254112043  -->  1115.6683466653162\n",
      "1115.6683466653162  -->  1126.8250301319695\n"
     ]
    }
   ],
   "source": [
    "# Código con ciclo while\n",
    "cantidad_actual = 1000\n",
    "tasa_de_interes = 1\n",
    "mes = 0\n",
    "while mes < 12:\n",
    "    cantidad_siguiente = cantidad_actual + cantidad_actual * tasa_de_interes / 100\n",
    "    print(cantidad_actual, ' --> ', cantidad_siguiente)\n",
    "    cantidad_actual = cantidad_siguiente\n",
    "    mes += 1"
   ]
  },
  {
   "cell_type": "markdown",
   "metadata": {},
   "source": [
    "## Solución mejorada\n",
    "Las tres soluciones nos dan el mismo resultado.\n",
    "\n",
    "Ya que estamos, estaría bueno que los resultados aparezcan con mejor formato, porque con el dinero necesitamos dos decimales (por los centavos...)\n",
    "\n",
    "Para lograr esto, tenemos que escribir\n",
    "\n",
    "    print(f'{cantidad_actual:.2f} -->  {cantidad_siguiente:.2f}')"
   ]
  },
  {
   "cell_type": "code",
   "execution_count": 8,
   "metadata": {},
   "outputs": [
    {
     "name": "stdout",
     "output_type": "stream",
     "text": [
      "1000.00 -->  1010.00\n",
      "1010.00 -->  1020.10\n",
      "1020.10 -->  1030.30\n",
      "1030.30 -->  1040.60\n",
      "1040.60 -->  1051.01\n",
      "1051.01 -->  1061.52\n",
      "1061.52 -->  1072.14\n",
      "1072.14 -->  1082.86\n",
      "1082.86 -->  1093.69\n",
      "1093.69 -->  1104.62\n",
      "1104.62 -->  1115.67\n",
      "1115.67 -->  1126.83\n"
     ]
    }
   ],
   "source": [
    "# Código con ciclo for\n",
    "cantidad_actual = 1000\n",
    "tasa_de_interes = 1\n",
    "for mes in range(12):\n",
    "    cantidad_siguiente = cantidad_actual + cantidad_actual * tasa_de_interes / 100\n",
    "    print(f'{cantidad_actual:.2f} -->  {cantidad_siguiente:.2f}')\n",
    "    cantidad_actual = cantidad_siguiente"
   ]
  },
  {
   "cell_type": "code",
   "execution_count": 9,
   "metadata": {},
   "outputs": [
    {
     "name": "stdout",
     "output_type": "stream",
     "text": [
      "1000.00 -->  1010.00\n",
      "1010.00 -->  1020.10\n",
      "1020.10 -->  1030.30\n",
      "1030.30 -->  1040.60\n",
      "1040.60 -->  1051.01\n",
      "1051.01 -->  1061.52\n",
      "1061.52 -->  1072.14\n",
      "1072.14 -->  1082.86\n",
      "1082.86 -->  1093.69\n",
      "1093.69 -->  1104.62\n",
      "1104.62 -->  1115.67\n",
      "1115.67 -->  1126.83\n"
     ]
    }
   ],
   "source": [
    "# Código con ciclo while\n",
    "cantidad_actual = 1000\n",
    "tasa_de_interes = 1\n",
    "mes = 0\n",
    "while mes < 12:\n",
    "    cantidad_siguiente = cantidad_actual + cantidad_actual * tasa_de_interes / 100\n",
    "    print(f'{cantidad_actual:.2f} -->  {cantidad_siguiente:.2f}')\n",
    "    cantidad_actual = cantidad_siguiente\n",
    "    mes += 1"
   ]
  },
  {
   "cell_type": "markdown",
   "metadata": {},
   "source": [
    "## Ejercicio\n",
    "\n",
    "**Copie la solución donde el código se repite manualmente y modifique el comando print para que la tabla se imprima con dos decimales**"
   ]
  },
  {
   "cell_type": "code",
   "execution_count": null,
   "metadata": {
    "collapsed": true
   },
   "outputs": [],
   "source": [
    "# Código repetido manualmente, y tabla de resultados impresa con dos decimales\n"
   ]
  },
  {
   "cell_type": "markdown",
   "metadata": {},
   "source": [
    "## Modificaciones!!\n",
    "\n",
    "Que pasa si queremos hacer modificaciones? Por ejemplo, si queremos incluir el mes en la impresión de la tabla."
   ]
  },
  {
   "cell_type": "code",
   "execution_count": 1,
   "metadata": {},
   "outputs": [
    {
     "name": "stdout",
     "output_type": "stream",
     "text": [
      "  0 1000.00 -->  1010.00\n",
      "  1 1010.00 -->  1020.10\n",
      "  2 1020.10 -->  1030.30\n",
      "  3 1030.30 -->  1040.60\n",
      "  4 1040.60 -->  1051.01\n",
      "  5 1051.01 -->  1061.52\n",
      "  6 1061.52 -->  1072.14\n",
      "  7 1072.14 -->  1082.86\n",
      "  8 1082.86 -->  1093.69\n",
      "  9 1093.69 -->  1104.62\n",
      " 10 1104.62 -->  1115.67\n",
      " 11 1115.67 -->  1126.83\n"
     ]
    }
   ],
   "source": [
    "# Código con ciclo for\n",
    "cantidad_actual = 1000\n",
    "tasa_de_interes = 1\n",
    "for mes in range(12):\n",
    "    cantidad_siguiente = cantidad_actual + cantidad_actual * tasa_de_interes / 100\n",
    "    print(f'{mes:3d} {cantidad_actual:.2f} -->  {cantidad_siguiente:.2f}')\n",
    "    cantidad_actual = cantidad_siguiente"
   ]
  },
  {
   "cell_type": "code",
   "execution_count": 2,
   "metadata": {},
   "outputs": [
    {
     "name": "stdout",
     "output_type": "stream",
     "text": [
      "0 1000.00 -->  1010.00\n",
      "1 1010.00 -->  1020.10\n",
      "2 1020.10 -->  1030.30\n",
      "3 1030.30 -->  1040.60\n",
      "4 1040.60 -->  1051.01\n",
      "5 1051.01 -->  1061.52\n",
      "6 1061.52 -->  1072.14\n",
      "7 1072.14 -->  1082.86\n",
      "8 1082.86 -->  1093.69\n",
      "9 1093.69 -->  1104.62\n",
      "10 1104.62 -->  1115.67\n",
      "11 1115.67 -->  1126.83\n"
     ]
    }
   ],
   "source": [
    "# Código con ciclo while\n",
    "cantidad_actual = 1000\n",
    "tasa_de_interes = 1\n",
    "mes = 0\n",
    "while mes < 12:\n",
    "    cantidad_siguiente = cantidad_actual + cantidad_actual * tasa_de_interes / 100\n",
    "    print(f'{mes:d} {cantidad_actual:.2f} -->  {cantidad_siguiente:.2f}')\n",
    "    cantidad_actual = cantidad_siguiente\n",
    "    mes += 1"
   ]
  },
  {
   "cell_type": "markdown",
   "metadata": {},
   "source": [
    "**Estamos mostrando el número del mes, pero sería mejor que este número comenzara en 1 y terminara en 12.\n",
    "Como lo hacemos?**"
   ]
  },
  {
   "cell_type": "code",
   "execution_count": 3,
   "metadata": {},
   "outputs": [
    {
     "name": "stdout",
     "output_type": "stream",
     "text": [
      "  1 1000.00 -->  1010.00\n",
      "  2 1010.00 -->  1020.10\n",
      "  3 1020.10 -->  1030.30\n",
      "  4 1030.30 -->  1040.60\n",
      "  5 1040.60 -->  1051.01\n",
      "  6 1051.01 -->  1061.52\n",
      "  7 1061.52 -->  1072.14\n",
      "  8 1072.14 -->  1082.86\n",
      "  9 1082.86 -->  1093.69\n",
      " 10 1093.69 -->  1104.62\n",
      " 11 1104.62 -->  1115.67\n"
     ]
    }
   ],
   "source": [
    "# Código con ciclo for\n",
    "cantidad_actual = 1000\n",
    "tasa_de_interes = 1\n",
    "inicio = 1\n",
    "fin = 13\n",
    "for mes in range(1, 13): # inicio <= mes < fin\n",
    "    cantidad_siguiente = cantidad_actual + cantidad_actual * tasa_de_interes / 100\n",
    "    print(f'{mes:3d} {cantidad_actual:.2f} -->  {cantidad_siguiente:.2f}')\n",
    "    cantidad_actual = cantidad_siguiente"
   ]
  },
  {
   "cell_type": "code",
   "execution_count": null,
   "metadata": {
    "collapsed": true
   },
   "outputs": [],
   "source": [
    "# Pregunta !!!\n",
    "\n",
    "# Modifique el código anterior, empleando ahora un ciclo while \n",
    "# e indique las modificaciones\n",
    "\n",
    "# Código con ciclo while\n",
    "\n"
   ]
  },
  {
   "cell_type": "markdown",
   "metadata": {},
   "source": [
    "## Nuestras propias funciones\n",
    "\n",
    "Hasta ahora hemos usado funciones provistas por Python (type, print, len, assert), pero también es posible crear nuestras propias funciones que podemos usar para simplificar nuestros programas.\n",
    "Veamos un ejemplo"
   ]
  },
  {
   "cell_type": "code",
   "execution_count": 8,
   "metadata": {
    "collapsed": true
   },
   "outputs": [],
   "source": [
    "# Esta celda ejecutable contiene la definición de una función\n",
    "\n",
    "def leer_float(mensaje, en_error):\n",
    "    \"\"\"Trata de leer un número float desde el teclado,\n",
    "       y en caso de error devuelve un valor predeterminado.\n",
    "       \n",
    "       La función input (línea A) hace aparecer una forma de entrada de datos\n",
    "       donde el usuario puede escribir caracteres. \n",
    "       Si estos caracteres forman un número float, \n",
    "       en la linea B la variable entrada se \"transforma\" en un número float\n",
    "       que queda asignado a la variable valor.\n",
    "       Si los caracteres ingresados no forman un número float, \n",
    "       se levanta o anuncia una excepción ValueError y en ese caso\n",
    "       el valor de la variable en_error queda asignado a la variable valor.\n",
    "       \n",
    "       Parameters:\n",
    "           mensaje    (str): mensaje para el usuario\n",
    "           en_error (float): valor para retornar en caso de error\n",
    "       Returns:\n",
    "           float:     valor leido de teclado o en_error\n",
    "    \"\"\"\n",
    "    print(mensaje)\n",
    "    entrada = input()  # línea A\n",
    "    try:\n",
    "        valor = float(entrada) # línea B\n",
    "    except ValueError:\n",
    "        valor = en_error\n",
    "    return valor"
   ]
  },
  {
   "cell_type": "code",
   "execution_count": 11,
   "metadata": {},
   "outputs": [
    {
     "name": "stdout",
     "output_type": "stream",
     "text": [
      "Help on function leer_float in module __main__:\n",
      "\n",
      "leer_float(mensaje, en_error)\n",
      "    Trata de leer un número float desde el teclado,\n",
      "    y en caso de error devuelve un valor predeterminado.\n",
      "    \n",
      "    La función input (línea A) hace aparecer una forma de entrada de datos\n",
      "    donde el usuario puede escribir caracteres. \n",
      "    Si estos caracteres forman un número float, \n",
      "    en la linea B la variable entrada se \"transforma\" en un número float\n",
      "    que queda asignado a la variable valor.\n",
      "    Si los caracteres ingresados no forman un número float, \n",
      "    se levanta o anuncia una excepción ValueError y en ese caso\n",
      "    el valor de la variable en_error queda asignado a la variable valor.\n",
      "    \n",
      "    Parameters:\n",
      "        mensaje    (str): mensaje para el usuario\n",
      "        en_error (float): valor para retornar en caso de error\n",
      "    Returns:\n",
      "        float:     valor leido de teclado o en_error\n",
      "\n"
     ]
    }
   ],
   "source": [
    "help(leer_float) # Cada función puede tener su propio docstring,\n",
    "                 # que se visualiza con la función help de python"
   ]
  },
  {
   "cell_type": "code",
   "execution_count": 6,
   "metadata": {},
   "outputs": [
    {
     "name": "stdout",
     "output_type": "stream",
     "text": [
      "a\n",
      "4.6\n"
     ]
    },
    {
     "data": {
      "text/plain": [
       "4.6"
      ]
     },
     "execution_count": 6,
     "metadata": {},
     "output_type": "execute_result"
    }
   ],
   "source": [
    "leer_float('a', 0.0) # ingresar un valor \"correcto\" (Por ejemplo 4.6)"
   ]
  },
  {
   "cell_type": "code",
   "execution_count": 7,
   "metadata": {},
   "outputs": [
    {
     "name": "stdout",
     "output_type": "stream",
     "text": [
      "b\n",
      "kl\n"
     ]
    },
    {
     "data": {
      "text/plain": [
       "0.0"
      ]
     },
     "execution_count": 7,
     "metadata": {},
     "output_type": "execute_result"
    }
   ],
   "source": [
    "leer_float('b', 0.0) # ingresar un valor \"incorrecto\" (Por ejemplo kl)"
   ]
  },
  {
   "cell_type": "code",
   "execution_count": 12,
   "metadata": {},
   "outputs": [
    {
     "name": "stdout",
     "output_type": "stream",
     "text": [
      "Help on built-in function len in module builtins:\n",
      "\n",
      "len(obj, /)\n",
      "    Return the number of items in a container.\n",
      "\n"
     ]
    }
   ],
   "source": [
    "help(len)"
   ]
  },
  {
   "cell_type": "code",
   "execution_count": 13,
   "metadata": {},
   "outputs": [
    {
     "name": "stdout",
     "output_type": "stream",
     "text": [
      "Cual es la cantidad actual\n",
      "4500\n",
      "Cual es la tasa de interes\n",
      "0.7\n",
      "0 4500.00 -->  4531.50\n",
      "1 4531.50 -->  4563.22\n",
      "2 4563.22 -->  4595.16\n",
      "3 4595.16 -->  4627.33\n",
      "4 4627.33 -->  4659.72\n",
      "5 4659.72 -->  4692.34\n",
      "6 4692.34 -->  4725.18\n",
      "7 4725.18 -->  4758.26\n",
      "8 4758.26 -->  4791.57\n",
      "9 4791.57 -->  4825.11\n",
      "10 4825.11 -->  4858.89\n",
      "11 4858.89 -->  4892.90\n",
      "12 4892.90 -->  4927.15\n"
     ]
    }
   ],
   "source": [
    "# Modifique el código con ciclo while e indique las modificaciones\n",
    "\n",
    "# Código con ciclo while\n",
    "cantidad_actual = leer_float('Cual es la cantidad actual', 0.0)\n",
    "tasa_de_interes = leer_float('Cual es la tasa de interes', 0.0)\n",
    "mes = 0\n",
    "while mes < 13:\n",
    "    cantidad_siguiente = cantidad_actual + cantidad_actual * tasa_de_interes / 100\n",
    "    print(f'{mes:d} {cantidad_actual:.2f} -->  {cantidad_siguiente:.2f}')\n",
    "    cantidad_actual = cantidad_siguiente\n",
    "    mes += 1"
   ]
  },
  {
   "cell_type": "code",
   "execution_count": null,
   "metadata": {
    "collapsed": true
   },
   "outputs": [],
   "source": []
  }
 ],
 "metadata": {
  "kernelspec": {
   "display_name": "Python 3",
   "language": "python",
   "name": "python3"
  },
  "language_info": {
   "codemirror_mode": {
    "name": "ipython",
    "version": 3
   },
   "file_extension": ".py",
   "mimetype": "text/x-python",
   "name": "python",
   "nbconvert_exporter": "python",
   "pygments_lexer": "ipython3",
   "version": "3.6.5"
  }
 },
 "nbformat": 4,
 "nbformat_minor": 2
}
