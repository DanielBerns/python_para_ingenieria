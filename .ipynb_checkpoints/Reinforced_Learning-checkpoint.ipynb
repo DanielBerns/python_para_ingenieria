{
 "cells": [
  {
   "cell_type": "code",
   "execution_count": 1,
   "metadata": {
    "collapsed": true
   },
   "outputs": [],
   "source": [
    "import numpy as np\n",
    "import matplotlib.pyplot as plt"
   ]
  },
  {
   "cell_type": "code",
   "execution_count": 2,
   "metadata": {
    "collapsed": true
   },
   "outputs": [],
   "source": [
    "class Action:\n",
    "    def __init__(self, reward_parameters=None):\n",
    "        if reward_parameters:\n",
    "            assert(isinstance(reward_parameters, tuple))\n",
    "            assert(len(reward_parameters) == 2)\n",
    "        else:\n",
    "            reward_parameters = np.random.normal(), np.random.uniform()\n",
    "        self._mean = reward_parameters[0]\n",
    "        self._deviation = reward_parameters[1]\n",
    "\n",
    "    def reward(self):\n",
    "        return np.random.normal(self._mean, self._deviation)\n",
    "\n",
    "\n",
    "class Bandit:\n",
    "    def __init__(self):\n",
    "        self._actions = list()\n",
    "        \n",
    "    @property\n",
    "    def actions(self):\n",
    "        return self._actions\n",
    "    \n",
    "    def reward(self, index):\n",
    "        try:\n",
    "            action = self.actions[index]\n",
    "            return action.reward()\n",
    "        except IndexError:\n",
    "            return -100"
   ]
  },
  {
   "cell_type": "code",
   "execution_count": 3,
   "metadata": {},
   "outputs": [],
   "source": [
    "bandit = Bandit()\n",
    "for k in range(10):\n",
    "    bandit.actions.append(Action())"
   ]
  },
  {
   "cell_type": "code",
   "execution_count": 4,
   "metadata": {},
   "outputs": [
    {
     "name": "stdout",
     "output_type": "stream",
     "text": [
      "   2 -0.954731\n",
      "   9 -2.038721\n",
      "   5 1.489102\n",
      "   0 1.010357\n",
      "   5 1.523158\n",
      "   6 0.531183\n",
      "   6 0.117989\n",
      "   9 -0.797331\n",
      "   0 0.840030\n",
      "   0 1.169151\n"
     ]
    }
   ],
   "source": [
    "number_of_actions = len(bandit.actions)\n",
    "for k in range(10):\n",
    "    action = np.random.randint(number_of_actions)\n",
    "    print(f'{action:>4d} {bandit.reward(action):>3.6f}')"
   ]
  },
  {
   "cell_type": "code",
   "execution_count": 5,
   "metadata": {},
   "outputs": [],
   "source": [
    "def simple_bandit_algorithm(bandit, epsilon=0.01, Qa0=0.0, iterations=2000):\n",
    "    number_of_actions = len(bandit.actions)\n",
    "    Qa = np.full(shape=number_of_actions, fill_value=Qa0)\n",
    "    Na = np.zeros(shape=number_of_actions, dtype=np.int)\n",
    "    Qa_story = np.zeros(shape=(number_of_actions, iterations), dtype=np.float)\n",
    "    threshold = 1.0 - epsilon\n",
    "    for i in range(iterations):\n",
    "        if np.random.uniform() < threshold:\n",
    "            action = Qa.argmax()\n",
    "        else:\n",
    "            action = np.random.randint(number_of_actions)\n",
    "        reward = bandit.reward(action)\n",
    "        Na[action] += 1\n",
    "        Qa[action] += (reward - Qa[action]) / Na[action]\n",
    "        Qa_story[:, i] = Qa\n",
    "    n = np.linspace(0, iterations-1, iterations, dtype=np.int)\n",
    "    return Qa, Na, Qa_story, n"
   ]
  },
  {
   "cell_type": "code",
   "execution_count": 6,
   "metadata": {},
   "outputs": [],
   "source": [
    "Qa, Na, Qa_story, n = simple_bandit_algorithm(bandit, epsilon=0.1)"
   ]
  },
  {
   "cell_type": "code",
   "execution_count": 7,
   "metadata": {},
   "outputs": [
    {
     "data": {
      "text/plain": [
       "array([ 1.08880873, -0.73595847, -1.1971034 ,  0.29722733,  2.10792476,\n",
       "        1.48191053,  0.25721017, -0.19278503, -0.84061244, -0.93736779])"
      ]
     },
     "execution_count": 7,
     "metadata": {},
     "output_type": "execute_result"
    }
   ],
   "source": [
    "Qa"
   ]
  },
  {
   "cell_type": "code",
   "execution_count": 8,
   "metadata": {},
   "outputs": [
    {
     "data": {
      "text/plain": [
       "array([  16,   14,    9,   33, 1824,   22,   16,   24,   16,   26])"
      ]
     },
     "execution_count": 8,
     "metadata": {},
     "output_type": "execute_result"
    }
   ],
   "source": [
    "Na"
   ]
  },
  {
   "cell_type": "code",
   "execution_count": 9,
   "metadata": {},
   "outputs": [
    {
     "name": "stdout",
     "output_type": "stream",
     "text": [
      "  0    1.07423490663552501090    0.15539920443613464140\n",
      "  1   -0.74626454306059475385    0.17107358103700587293\n",
      "  2   -1.08308741430177857268    0.16641151352801064611\n",
      "  3    0.27835560924755581302    0.22030961160495066142\n",
      "  4    2.08049086946309680357    0.59215992178126730661\n",
      "  5    1.49962082174947997082    0.07048298770254779466\n",
      "  6    0.22069648668953892323    0.37065618002728184521\n",
      "  7   -0.05994314303089210566    0.68873713011067450029\n",
      "  8   -0.54710568694469563500    0.81792774234852150261\n",
      "  9   -0.89771189747376856083    0.78677366072641341521\n"
     ]
    }
   ],
   "source": [
    "for k, a in enumerate(bandit.actions):\n",
    "    print(f'{k:>3d} {a._mean:>25.20f} {a._deviation:>25.20f}')"
   ]
  },
  {
   "cell_type": "code",
   "execution_count": 10,
   "metadata": {},
   "outputs": [],
   "source": [
    "Qa_1, Na_1, Qa_story_1, n_1 = simple_bandit_algorithm(bandit, epsilon=0.1)\n",
    "Qa_2, Na_2, Qa_story_2, n_2 = simple_bandit_algorithm(bandit, epsilon=0.1, Qa0=5.0)"
   ]
  },
  {
   "cell_type": "code",
   "execution_count": 11,
   "metadata": {},
   "outputs": [
    {
     "data": {
      "image/png": "[encoded data removed]",
      "text/plain": [
       "<Figure size 432x288 with 2 Axes>"
      ]
     },
     "metadata": {},
     "output_type": "display_data"
    }
   ],
   "source": [
    "plt.clf()\n",
    "best_action_1 = Qa_1.argmax()\n",
    "best_action_2 = Qa_2.argmax()\n",
    "plt.subplot(2,1,1)\n",
    "plt.plot(n_1, Qa_story_1[best_action_1,:], '.')\n",
    "plt.subplot(2,1,2)\n",
    "plt.plot(n_2, Qa_story_2[best_action_2,:], '.')\n",
    "plt.show()"
   ]
  },
  {
   "cell_type": "code",
   "execution_count": 12,
   "metadata": {},
   "outputs": [
    {
     "data": {
      "text/plain": [
       "(4, 4)"
      ]
     },
     "execution_count": 12,
     "metadata": {},
     "output_type": "execute_result"
    }
   ],
   "source": [
    "best_action_1, best_action_2"
   ]
  },
  {
   "cell_type": "code",
   "execution_count": 13,
   "metadata": {
    "collapsed": true
   },
   "outputs": [],
   "source": [
    "def weighted_bandit_algorithm(bandit, epsilon=0.01, Qa0=0.0, alpha=0.1, iterations=2000):\n",
    "    number_of_actions = len(bandit.actions)\n",
    "    Qa = np.full(shape=number_of_actions, fill_value=Qa0)\n",
    "    Na = np.zeros(shape=number_of_actions, dtype=np.int)\n",
    "    Qa_story = np.zeros(shape=(number_of_actions, iterations), dtype=np.float)\n",
    "    threshold = 1.0 - epsilon\n",
    "    for i in range(iterations):\n",
    "        if np.random.uniform() < threshold:\n",
    "            action = Qa.argmax()\n",
    "        else:\n",
    "            action = np.random.randint(number_of_actions)\n",
    "        reward = bandit.reward(action)\n",
    "        Na[action] += 1\n",
    "        Qa[action] += (reward - Qa[action]) * alpha\n",
    "        Qa_story[:, i] = Qa\n",
    "    n = np.linspace(0, iterations-1, iterations, dtype=np.int)\n",
    "    return Qa, Na, Qa_story, n"
   ]
  },
  {
   "cell_type": "code",
   "execution_count": 20,
   "metadata": {},
   "outputs": [],
   "source": [
    "Qa_1, Na_1, Qa_story_1, n_1 = simple_bandit_algorithm(bandit, epsilon=0.1)\n",
    "Qa_2, Na_2, Qa_story_2, n_2 = weighted_bandit_algorithm(bandit, epsilon=0.2, alpha=0.1)"
   ]
  },
  {
   "cell_type": "code",
   "execution_count": 15,
   "metadata": {},
   "outputs": [
    {
     "data": {
      "image/png": "[encoded data removed]",
      "text/plain": [
       "<Figure size 432x288 with 2 Axes>"
      ]
     },
     "metadata": {},
     "output_type": "display_data"
    }
   ],
   "source": [
    "plt.clf()\n",
    "best_action_1 = Qa_1.argmax()\n",
    "best_action_2 = Qa_2.argmax()\n",
    "plt.subplot(2,1,1)\n",
    "plt.plot(n_1, Qa_story_1[best_action_1,:], '.')\n",
    "plt.subplot(2,1,2)\n",
    "plt.plot(n_2, Qa_story_2[best_action_2,:], '.')\n",
    "plt.show()"
   ]
  },
  {
   "cell_type": "code",
   "execution_count": 16,
   "metadata": {
    "collapsed": true
   },
   "outputs": [],
   "source": [
    "def softmax(x):\n",
    "    \"\"\"Compute softmax values for each sets of scores in x.\"\"\"\n",
    "    e_x = np.exp(x - np.max(x))\n",
    "    return e_x / e_x.sum()\n",
    "    \n",
    "def gradient_bandit_algorithm(bandit, epsilon=0.01, Qa0=0.0, alpha=0.1, n=None):\n",
    "    iterations = 2000\n",
    "    if len(n):\n",
    "        assert(isinstance(n, np.ndarray))\n",
    "        iterations = len(n)\n",
    "    else:\n",
    "        n = np.linspace(0, iterations-1, iterations, dtype=np.int)\n",
    "    number_of_actions = len(bandit.actions)\n",
    "    Ha = np.full(shape=number_of_actions, fill_value=Qa0)\n",
    "    Qa = softmax(Ha) \n",
    "    Na = np.zeros(shape=number_of_actions, dtype=np.int)\n",
    "    Qa_story = np.zeros(shape=(number_of_actions, iterations), dtype=np.float)\n",
    "    threshold = 1.0 - epsilon\n",
    "    reward_mean = 0.0\n",
    "    for i in range(iterations):\n",
    "        if np.random.uniform() < threshold:\n",
    "            action = Qa.argmax()\n",
    "        else:\n",
    "            action = np.random.randint(number_of_actions)\n",
    "        reward = bandit.reward(action)\n",
    "        reward_mean += (reward - reward_mean) / (i + 1)\n",
    "        Na[action] += 1\n",
    "        delta = alpha * (reward - reward_mean)\n",
    "        Ha -= delta * Qa\n",
    "        Ha[action] += delta\n",
    "        Qa = softmax(Ha)\n",
    "        Qa_story[:, i] = Qa\n",
    "\n",
    "    return Qa, Na, Qa_story\n",
    "    "
   ]
  },
  {
   "cell_type": "code",
   "execution_count": 17,
   "metadata": {},
   "outputs": [],
   "source": [
    "Qa_3, Na_3, Qa_story_3 = gradient_bandit_algorithm(bandit, epsilon=0.2, alpha=0.9, n=n_2)"
   ]
  },
  {
   "cell_type": "code",
   "execution_count": 21,
   "metadata": {
    "scrolled": true
   },
   "outputs": [
    {
     "data": {
      "image/png": "[encoded data removed]",
      "text/plain": [
       "<Figure size 432x288 with 3 Axes>"
      ]
     },
     "metadata": {},
     "output_type": "display_data"
    }
   ],
   "source": [
    "plt.clf()\n",
    "best_action_1 = Qa_1.argmax()\n",
    "best_action_2 = Qa_2.argmax()\n",
    "best_action_3 = Qa_3.argmax()\n",
    "plt.subplot(3,1,1)\n",
    "plt.plot(n_1, Qa_story_1[best_action_1,:], '.')\n",
    "plt.subplot(3,1,2)\n",
    "plt.plot(n_2, Qa_story_2[best_action_2,:], '.')\n",
    "plt.subplot(3,1,3)\n",
    "plt.plot(n, Qa_story_3[best_action_3,:], '.')\n",
    "plt.show()"
   ]
  },
  {
   "cell_type": "code",
   "execution_count": 19,
   "metadata": {},
   "outputs": [
    {
     "data": {
      "text/plain": [
       "(4, 4, 4)"
      ]
     },
     "execution_count": 19,
     "metadata": {},
     "output_type": "execute_result"
    }
   ],
   "source": [
    "best_action_1, best_action_2, best_action_3"
   ]
  },
  {
   "cell_type": "code",
   "execution_count": null,
   "metadata": {
    "collapsed": true
   },
   "outputs": [],
   "source": []
  }
 ],
 "metadata": {
  "kernelspec": {
   "display_name": "Python 3",
   "language": "python",
   "name": "python3"
  },
  "language_info": {
   "codemirror_mode": {
    "name": "ipython",
    "version": 3
   },
   "file_extension": ".py",
   "mimetype": "text/x-python",
   "name": "python",
   "nbconvert_exporter": "python",
   "pygments_lexer": "ipython3",
   "version": "3.6.5"
  }
 },
 "nbformat": 4,
 "nbformat_minor": 2
}
