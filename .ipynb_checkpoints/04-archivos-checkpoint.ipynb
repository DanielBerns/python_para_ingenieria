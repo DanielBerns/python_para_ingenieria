{
 "cells": [
  {
   "cell_type": "markdown",
   "metadata": {},
   "source": [
    "# Archivos\n",
    "\n",
    "Los datos de nuestros programas \"viven\" en variables (partes de la memoria RAM, con un identificador y un tipo) durante la ejecución de un programa, pero también es necesario guardar datos en estructuras permanentes, que sobrevivan a las corridas de los programas y nos permitan intercambiar información con otras personas.\n",
    "Para esto podemos usar archivos, que son una clase de objetos que nos permiten leer o escribir datos en un dispositivo de almacenamiento de datos."
   ]
  },
  {
   "cell_type": "markdown",
   "metadata": {},
   "source": [
    "### La función dir\n",
    "\n",
    "Podemos usar la función dir para ver que atributos y métodos tiene un objeto."
   ]
  },
  {
   "cell_type": "code",
   "execution_count": null,
   "metadata": {
    "collapsed": true
   },
   "outputs": [],
   "source": [
    "dir(variable_archivo)"
   ]
  },
  {
   "cell_type": "markdown",
   "metadata": {},
   "source": [
    "### La función help\n",
    "\n",
    "La función help nos permite acceder a la documentación disponible en python"
   ]
  },
  {
   "cell_type": "code",
   "execution_count": 7,
   "metadata": {},
   "outputs": [
    {
     "name": "stdout",
     "output_type": "stream",
     "text": [
      "Help on TextIOWrapper object:\n",
      "\n",
      "class TextIOWrapper(_TextIOBase)\n",
      " |  Character and line based layer over a BufferedIOBase object, buffer.\n",
      " |  \n",
      " |  encoding gives the name of the encoding that the stream will be\n",
      " |  decoded or encoded with. It defaults to locale.getpreferredencoding(False).\n",
      " |  \n",
      " |  errors determines the strictness of encoding and decoding (see\n",
      " |  help(codecs.Codec) or the documentation for codecs.register) and\n",
      " |  defaults to \"strict\".\n",
      " |  \n",
      " |  newline controls how line endings are handled. It can be None, '',\n",
      " |  '\\n', '\\r', and '\\r\\n'.  It works as follows:\n",
      " |  \n",
      " |  * On input, if newline is None, universal newlines mode is\n",
      " |    enabled. Lines in the input can end in '\\n', '\\r', or '\\r\\n', and\n",
      " |    these are translated into '\\n' before being returned to the\n",
      " |    caller. If it is '', universal newline mode is enabled, but line\n",
      " |    endings are returned to the caller untranslated. If it has any of\n",
      " |    the other legal values, input lines are only terminated by the given\n",
      " |    string, and the line ending is returned to the caller untranslated.\n",
      " |  \n",
      " |  * On output, if newline is None, any '\\n' characters written are\n",
      " |    translated to the system default line separator, os.linesep. If\n",
      " |    newline is '' or '\\n', no translation takes place. If newline is any\n",
      " |    of the other legal values, any '\\n' characters written are translated\n",
      " |    to the given string.\n",
      " |  \n",
      " |  If line_buffering is True, a call to flush is implied when a call to\n",
      " |  write contains a newline character.\n",
      " |  \n",
      " |  Method resolution order:\n",
      " |      TextIOWrapper\n",
      " |      _TextIOBase\n",
      " |      _IOBase\n",
      " |      builtins.object\n",
      " |  \n",
      " |  Methods defined here:\n",
      " |  \n",
      " |  __getstate__(...)\n",
      " |  \n",
      " |  __init__(self, /, *args, **kwargs)\n",
      " |      Initialize self.  See help(type(self)) for accurate signature.\n",
      " |  \n",
      " |  __new__(*args, **kwargs) from builtins.type\n",
      " |      Create and return a new object.  See help(type) for accurate signature.\n",
      " |  \n",
      " |  __next__(self, /)\n",
      " |      Implement next(self).\n",
      " |  \n",
      " |  __repr__(self, /)\n",
      " |      Return repr(self).\n",
      " |  \n",
      " |  close(self, /)\n",
      " |      Flush and close the IO object.\n",
      " |      \n",
      " |      This method has no effect if the file is already closed.\n",
      " |  \n",
      " |  detach(self, /)\n",
      " |      Separate the underlying buffer from the TextIOBase and return it.\n",
      " |      \n",
      " |      After the underlying buffer has been detached, the TextIO is in an\n",
      " |      unusable state.\n",
      " |  \n",
      " |  fileno(self, /)\n",
      " |      Returns underlying file descriptor if one exists.\n",
      " |      \n",
      " |      OSError is raised if the IO object does not use a file descriptor.\n",
      " |  \n",
      " |  flush(self, /)\n",
      " |      Flush write buffers, if applicable.\n",
      " |      \n",
      " |      This is not implemented for read-only and non-blocking streams.\n",
      " |  \n",
      " |  isatty(self, /)\n",
      " |      Return whether this is an 'interactive' stream.\n",
      " |      \n",
      " |      Return False if it can't be determined.\n",
      " |  \n",
      " |  read(self, size=-1, /)\n",
      " |      Read at most n characters from stream.\n",
      " |      \n",
      " |      Read from underlying buffer until we have n characters or we hit EOF.\n",
      " |      If n is negative or omitted, read until EOF.\n",
      " |  \n",
      " |  readable(self, /)\n",
      " |      Return whether object was opened for reading.\n",
      " |      \n",
      " |      If False, read() will raise OSError.\n",
      " |  \n",
      " |  readline(self, size=-1, /)\n",
      " |      Read until newline or EOF.\n",
      " |      \n",
      " |      Returns an empty string if EOF is hit immediately.\n",
      " |  \n",
      " |  seek(self, cookie, whence=0, /)\n",
      " |      Change stream position.\n",
      " |      \n",
      " |      Change the stream position to the given byte offset. The offset is\n",
      " |      interpreted relative to the position indicated by whence.  Values\n",
      " |      for whence are:\n",
      " |      \n",
      " |      * 0 -- start of stream (the default); offset should be zero or positive\n",
      " |      * 1 -- current stream position; offset may be negative\n",
      " |      * 2 -- end of stream; offset is usually negative\n",
      " |      \n",
      " |      Return the new absolute position.\n",
      " |  \n",
      " |  seekable(self, /)\n",
      " |      Return whether object supports random access.\n",
      " |      \n",
      " |      If False, seek(), tell() and truncate() will raise OSError.\n",
      " |      This method may need to do a test seek().\n",
      " |  \n",
      " |  tell(self, /)\n",
      " |      Return current stream position.\n",
      " |  \n",
      " |  truncate(self, pos=None, /)\n",
      " |      Truncate file to size bytes.\n",
      " |      \n",
      " |      File pointer is left unchanged.  Size defaults to the current IO\n",
      " |      position as reported by tell().  Returns the new size.\n",
      " |  \n",
      " |  writable(self, /)\n",
      " |      Return whether object was opened for writing.\n",
      " |      \n",
      " |      If False, write() will raise OSError.\n",
      " |  \n",
      " |  write(self, text, /)\n",
      " |      Write string to stream.\n",
      " |      Returns the number of characters written (which is always equal to\n",
      " |      the length of the string).\n",
      " |  \n",
      " |  ----------------------------------------------------------------------\n",
      " |  Data descriptors defined here:\n",
      " |  \n",
      " |  buffer\n",
      " |  \n",
      " |  closed\n",
      " |  \n",
      " |  encoding\n",
      " |      Encoding of the text stream.\n",
      " |      \n",
      " |      Subclasses should override.\n",
      " |  \n",
      " |  errors\n",
      " |      The error setting of the decoder or encoder.\n",
      " |      \n",
      " |      Subclasses should override.\n",
      " |  \n",
      " |  line_buffering\n",
      " |  \n",
      " |  name\n",
      " |  \n",
      " |  newlines\n",
      " |      Line endings translated so far.\n",
      " |      \n",
      " |      Only line endings translated during reading are considered.\n",
      " |      \n",
      " |      Subclasses should override.\n",
      " |  \n",
      " |  ----------------------------------------------------------------------\n",
      " |  Methods inherited from _IOBase:\n",
      " |  \n",
      " |  __del__(...)\n",
      " |  \n",
      " |  __enter__(...)\n",
      " |  \n",
      " |  __exit__(...)\n",
      " |  \n",
      " |  __iter__(self, /)\n",
      " |      Implement iter(self).\n",
      " |  \n",
      " |  readlines(self, hint=-1, /)\n",
      " |      Return a list of lines from the stream.\n",
      " |      \n",
      " |      hint can be specified to control the number of lines read: no more\n",
      " |      lines will be read if the total size (in bytes/characters) of all\n",
      " |      lines so far exceeds hint.\n",
      " |  \n",
      " |  writelines(self, lines, /)\n",
      " |  \n",
      " |  ----------------------------------------------------------------------\n",
      " |  Data descriptors inherited from _IOBase:\n",
      " |  \n",
      " |  __dict__\n",
      "\n"
     ]
    }
   ],
   "source": [
    "help(variable_archivo)"
   ]
  },
  {
   "cell_type": "markdown",
   "metadata": {},
   "source": [
    "## Uso básico de archivos\n",
    "\n",
    "Los archivos tienen una variable asociada que se \"crea\" empleando la función open.\n",
    "\n",
    "Por ejemplo, a continuación vamos a crear una variable  asociada a un archivo de texto. El archivo de texto está formado por un texto en el sistema de archivos (generalmente en un disco rígido de una computadora, o en \"la nube\"). El archivo tiene además un nombre que permite ubicarlo en el sistema de archivos, y un modo (lectura 'r', escritura 'w', y otros que veremos más tarde)\n",
    "\n",
    "Si usamos de esta forma la función open para crear un archivo, necesitamos usar el método close para terminar la conexión entre la variable y el sistema de archivos."
   ]
  },
  {
   "cell_type": "markdown",
   "metadata": {},
   "source": [
    "### Archivo de texto modo lectura"
   ]
  },
  {
   "cell_type": "code",
   "execution_count": 17,
   "metadata": {
    "collapsed": true
   },
   "outputs": [],
   "source": [
    "nombre = './ejemplo_archivo_texto_lectura.txt'\n",
    "modo = 'r'\n",
    "variable_archivo = open(nombre, modo)"
   ]
  },
  {
   "cell_type": "code",
   "execution_count": 18,
   "metadata": {},
   "outputs": [
    {
     "name": "stdout",
     "output_type": "stream",
     "text": [
      "uno, 1\n",
      "dos, 2\n",
      "tres, 3\n",
      "cuatro, 4\n",
      "\n"
     ]
    }
   ],
   "source": [
    "# Leemos el texto\n",
    "#    la información pasa del sistema de archivos \n",
    "#    a una variable de nombre texto y tipo str\n",
    "texto = variable_archivo.read() \n",
    "print(texto)"
   ]
  },
  {
   "cell_type": "markdown",
   "metadata": {},
   "source": [
    "En la celda anterior aparece la línea\n",
    "    \n",
    "    texto = variable_archivo.read()\n",
    "    \n",
    "Qué significa?\n",
    "Python es un idioma de programación basada en objetos, donde todas \"las cosas\" (constantes, variables, funciones, etc.) son objetos. Un objeto está formado por datos (con identificadores y memoria asignados) y métodos (funciones) que operan sobre los datos. \n",
    "\n",
    "En este caso, tenemos una variable con identificador variable_archivo que es un objeto file (archivo).\n",
    "Esta variable file fue creada con la función open, dandole la opción 'r', y tiene un método con identificador read que podemos usar escribiendo\n",
    "\n",
    "    variable_archivo.read()\n",
    "    \n",
    "En este caso, el método read() recupera una secuencia de bytes de un archivo dentro de un sistema de almacenamiento de datos\n",
    "y transfiere esos bytes a una variable con identificador texto.\n",
    "\n",
    "En resúmen, si tenemos un objeto p con un método do() podemos escribir\n",
    "\n",
    "    p.do()\n",
    "    \n",
    "para ejecutar el método do() en los datos pertenecientes al objeto p."
   ]
  },
  {
   "cell_type": "code",
   "execution_count": 14,
   "metadata": {},
   "outputs": [
    {
     "data": {
      "text/plain": [
       "('./ejemplo_archivo_texto_lectura.txt', 'r', False)"
      ]
     },
     "execution_count": 14,
     "metadata": {},
     "output_type": "execute_result"
    }
   ],
   "source": [
    "# Podemos acceder a información asociada al archivo y su estado\n",
    "variable_archivo.name, variable_archivo.mode, variable_archivo.closed"
   ]
  },
  {
   "cell_type": "code",
   "execution_count": 21,
   "metadata": {},
   "outputs": [
    {
     "data": {
      "text/plain": [
       "('./ejemplo_archivo_texto_lectura.txt', 'r', True)"
      ]
     },
     "execution_count": 21,
     "metadata": {},
     "output_type": "execute_result"
    }
   ],
   "source": [
    "# si usamos la función open sin emplear la instrucción 'with open... as' \n",
    "# debemos usar el metodo close\n",
    "variable_archivo.close()\n",
    "variable_archivo.name, variable_archivo.mode, variable_archivo.closed"
   ]
  },
  {
   "cell_type": "markdown",
   "metadata": {},
   "source": [
    "### Otra forma de hacer lo mismo, línea por línea"
   ]
  },
  {
   "cell_type": "code",
   "execution_count": 20,
   "metadata": {},
   "outputs": [
    {
     "name": "stdout",
     "output_type": "stream",
     "text": [
      "uno, 1\n",
      "\n",
      "dos, 2\n",
      "\n",
      "tres, 3\n",
      "\n",
      "cuatro, 4\n",
      "\n"
     ]
    }
   ],
   "source": [
    "nombre = './ejemplo_archivo_texto_lectura.txt'\n",
    "modo = 'r'\n",
    "variable_archivo = open(nombre, modo)\n",
    "# Leemos el texto linea a linea\n",
    "for linea in variable_archivo:\n",
    "    print(linea)\n",
    "variable_archivo.close()"
   ]
  },
  {
   "cell_type": "markdown",
   "metadata": {},
   "source": [
    "### 'with open... as', sin necesidad de usar el método close"
   ]
  },
  {
   "cell_type": "code",
   "execution_count": 22,
   "metadata": {},
   "outputs": [
    {
     "name": "stdout",
     "output_type": "stream",
     "text": [
      "uno, 1\n",
      "\n",
      "dos, 2\n",
      "\n",
      "tres, 3\n",
      "\n",
      "cuatro, 4\n",
      "\n"
     ]
    }
   ],
   "source": [
    "nombre = './ejemplo_archivo_texto_lectura.txt'\n",
    "modo = 'r'\n",
    "with open(nombre, modo) as variable_archivo:\n",
    "    # Leemos el texto linea a linea\n",
    "    for linea in variable_archivo:\n",
    "        print(linea)"
   ]
  },
  {
   "cell_type": "markdown",
   "metadata": {},
   "source": [
    "### Procesando línea a línea de texto"
   ]
  },
  {
   "cell_type": "code",
   "execution_count": 23,
   "metadata": {},
   "outputs": [
    {
     "name": "stdout",
     "output_type": "stream",
     "text": [
      "   uno\n",
      "    1\n",
      "   dos\n",
      "    2\n",
      "   tres\n",
      "    3\n",
      "   cuatro\n",
      "    4\n"
     ]
    }
   ],
   "source": [
    "nombre = './ejemplo_archivo_texto_lectura.txt'\n",
    "modo = 'r'\n",
    "with open(nombre, modo) as variable_archivo:\n",
    "    # Leemos el texto linea a linea\n",
    "    for linea in variable_archivo:\n",
    "        info = linea[:-1] # descartamos '\\n' salto de línea\n",
    "        partes = info.split(',')\n",
    "        for p in partes:\n",
    "            print(f'   {p:s}')        "
   ]
  },
  {
   "cell_type": "markdown",
   "metadata": {},
   "source": [
    "### Archivo de texto modo escritura"
   ]
  },
  {
   "cell_type": "code",
   "execution_count": 27,
   "metadata": {
    "collapsed": true
   },
   "outputs": [],
   "source": [
    "nombre = './ejemplo_archivo_texto_escritura-1.txt'\n",
    "modo = 'w' # MODO ESCRITURA\n",
    "with open(nombre, modo) as variable_archivo:\n",
    "    for k in range(10):\n",
    "        variable_archivo.write('a'+str(k))"
   ]
  },
  {
   "cell_type": "code",
   "execution_count": 28,
   "metadata": {
    "collapsed": true
   },
   "outputs": [],
   "source": [
    "nombre = './ejemplo_archivo_texto_escritura-2.txt'\n",
    "modo = 'w' # MODO ESCRITURA\n",
    "with open(nombre, modo) as variable_archivo:\n",
    "    for k in range(10):\n",
    "        variable_archivo.write('a'+str(k)+'\\n')"
   ]
  },
  {
   "cell_type": "markdown",
   "metadata": {},
   "source": [
    "## Archivo de texto estructurados\n",
    "\n",
    "Además de los archivos txt, existen otros tipos de archivo de texto con estructuras definidas que pueden ser usadas para intercambio y almacenamiento de datos: csv (comma separated values), json (javascript object notation), yaml (yet another markup language), md (markdown) y rst (restructured text).\n",
    "Cabe aclarar que no son los únicos tipos, sino los que veremos en este curso.\n"
   ]
  },
  {
   "cell_type": "markdown",
   "metadata": {},
   "source": [
    "### Archivos csv\n",
    "\n",
    "https://docs.python.org/3/library/csv.html"
   ]
  },
  {
   "cell_type": "code",
   "execution_count": null,
   "metadata": {
    "collapsed": true
   },
   "outputs": [],
   "source": [
    "import csv"
   ]
  },
  {
   "cell_type": "code",
   "execution_count": 35,
   "metadata": {
    "collapsed": true
   },
   "outputs": [],
   "source": [
    "# Escritura de datos en formato csv\n",
    "\n",
    "q = 3\n",
    "with open('datos.csv', 'w', newline='') as csvfile:\n",
    "    spamwriter = csv.writer(csvfile, delimiter=' ',\n",
    "                            quotechar='|', quoting=csv.QUOTE_MINIMAL)\n",
    "    spamwriter.writerow(['palabras'] * q + ['punto'])\n",
    "    spamwriter.writerow([f'palabra-{v:<d} ' for v in range(q+1)])"
   ]
  },
  {
   "cell_type": "code",
   "execution_count": 36,
   "metadata": {},
   "outputs": [
    {
     "name": "stdout",
     "output_type": "stream",
     "text": [
      "palabras, palabras, palabras, punto\n",
      "palabra-0 , palabra-1 , palabra-2 , palabra-3 \n"
     ]
    }
   ],
   "source": [
    "# Lectura de datos en formato csv\n",
    "\n",
    "with open('datos.csv', newline='') as csvfile:\n",
    "    spamreader = csv.reader(csvfile, delimiter=' ', quotechar='|')\n",
    "    for row in spamreader:\n",
    "        print(', '.join(row))"
   ]
  },
  {
   "cell_type": "markdown",
   "metadata": {},
   "source": [
    "### Archivos json\n",
    "\n",
    "https://docs.python.org/3/library/json.html"
   ]
  },
  {
   "cell_type": "code",
   "execution_count": 37,
   "metadata": {
    "collapsed": true
   },
   "outputs": [],
   "source": [
    "import json"
   ]
  },
  {
   "cell_type": "code",
   "execution_count": 38,
   "metadata": {
    "collapsed": true
   },
   "outputs": [],
   "source": [
    "compras = [{'producto': 'pejerrey', 'peso': '1.3kg'}, {'producto': 'pollo', 'peso': '2.5kg'}, \n",
    "           {'producto': 'harina', 'peso': '1.0kg'}, {'producto': 'zanahoria', 'peso': '0.8kg'}]\n",
    "precios = [{'producto': 'pejerrey', 'precio': '$150'}, {'producto': 'pollo', 'precio': '$200'},\n",
    "           {'producto': 'harina', 'precio': '$100'}, {'producto': 'zanahoria', 'precio': '$80'}]\n",
    "datos = {'compras': compras, 'precios': precios}"
   ]
  },
  {
   "cell_type": "code",
   "execution_count": 40,
   "metadata": {
    "collapsed": true
   },
   "outputs": [],
   "source": [
    "nombre = './datos.json'\n",
    "modo = 'w'\n",
    "with open(nombre, modo) as salida:\n",
    "    json.dump(datos, salida)"
   ]
  },
  {
   "cell_type": "code",
   "execution_count": 41,
   "metadata": {
    "collapsed": true
   },
   "outputs": [],
   "source": [
    "nombre = './datos.json'\n",
    "modo = 'r'\n",
    "with open(nombre, modo) as entrada:\n",
    "    datos_leidos = json.load(entrada)"
   ]
  },
  {
   "cell_type": "code",
   "execution_count": 42,
   "metadata": {},
   "outputs": [
    {
     "data": {
      "text/plain": [
       "{'compras': [{'peso': '1.3kg', 'producto': 'pejerrey'},\n",
       "  {'peso': '2.5kg', 'producto': 'pollo'},\n",
       "  {'peso': '1.0kg', 'producto': 'harina'},\n",
       "  {'peso': '0.8kg', 'producto': 'zanahoria'}],\n",
       " 'precios': [{'precio': '$150', 'producto': 'pejerrey'},\n",
       "  {'precio': '$200', 'producto': 'pollo'},\n",
       "  {'precio': '$100', 'producto': 'harina'},\n",
       "  {'precio': '$80', 'producto': 'zanahoria'}]}"
      ]
     },
     "execution_count": 42,
     "metadata": {},
     "output_type": "execute_result"
    }
   ],
   "source": [
    "datos_leidos"
   ]
  },
  {
   "cell_type": "markdown",
   "metadata": {},
   "source": [
    "### Archivos YAML\n",
    "\n",
    "Todo archivo json es un archivo YAML, pero hay archivos YAML que no son json. \n",
    "El formato YAML no está incluido en el lenguaje python, pero puede instalarse un package para leer archivos YAML. Consultar en el enlace http://zetcode.com/python/yaml/"
   ]
  },
  {
   "cell_type": "markdown",
   "metadata": {},
   "source": [
    "### Archivos md, o markdown\n",
    "\n",
    "https://www.markdowntutorial.com/\n",
    "\n",
    "Markdown es un lenguaje de texto para escribir documentación con formato (titulos en negrita, palabras en itálica, negrita, o subrayada, listados enumerados, listados itemizados, etc.)\n",
    "\n",
    "Si bien no hay una librería para escribir directamente información en markdown, nosotros podemos hacer que nuestros programas generen salidas en markdown. Dado que existen procesadores que transforman archivos en markdown a html, esta opción nos permite generar reportes (con imágenes incluidas) que pueden convertirse en una página web en forma automática.\n"
   ]
  },
  {
   "cell_type": "markdown",
   "metadata": {},
   "source": [
    "### Archivos rst, o restructured text\n",
    "\n",
    "Este tipo de archivo es similar a markdown.\n",
    "\n",
    "Ver https://docutils.sourceforge.io/rst.html\n"
   ]
  },
  {
   "cell_type": "markdown",
   "metadata": {},
   "source": [
    "## Otros tipos de archivos\n",
    "\n",
    "¿Como leer archivos excel? ¿Como leer hojas de cálculo en general?\n",
    "\n",
    "Además de hojas de cálculo, existen otros formatos de archivos para datos que pueden escribirse y leerse con python.\n",
    "\n",
    "Para hojas de cálculo, usaremos Pandas.\n",
    "\n",
    "Buscar librería para h5"
   ]
  },
  {
   "cell_type": "code",
   "execution_count": null,
   "metadata": {
    "collapsed": true
   },
   "outputs": [],
   "source": []
  }
 ],
 "metadata": {
  "kernelspec": {
   "display_name": "Python 3",
   "language": "python",
   "name": "python3"
  },
  "language_info": {
   "codemirror_mode": {
    "name": "ipython",
    "version": 3
   },
   "file_extension": ".py",
   "mimetype": "text/x-python",
   "name": "python",
   "nbconvert_exporter": "python",
   "pygments_lexer": "ipython3",
   "version": "3.6.5"
  }
 },
 "nbformat": 4,
 "nbformat_minor": 2
}
