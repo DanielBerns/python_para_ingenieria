{
 "cells": [
  {
   "cell_type": "code",
   "execution_count": null,
   "metadata": {},
   "outputs": [],
   "source": [
    "% Grabacion de sonido\n",
    "recorder = audiorecorder()"
   ]
  },
  {
   "cell_type": "code",
   "execution_count": null,
   "metadata": {},
   "outputs": [],
   "source": [
    "length = 100;\n",
    "record(recorder, length);"
   ]
  },
  {
   "cell_type": "raw",
   "metadata": {},
   "source": [
    "recorder"
   ]
  },
  {
   "cell_type": "code",
   "execution_count": null,
   "metadata": {},
   "outputs": [],
   "source": [
    "data = getaudiodata(recorder)"
   ]
  },
  {
   "cell_type": "code",
   "execution_count": 3,
   "metadata": {},
   "outputs": [
    {
     "name": "stdout",
     "output_type": "stream",
     "text": [
      "error: vertical dimensions mismatch (1x7 vs 1x5)\n",
      "error: 'frecuencias' undefined near line 1 column 33\n",
      "error: 'frecuencias' undefined near line 1 column 15\n"
     ]
    }
   ],
   "source": [
    "frecuencias = [493.883, 466.164, 440.000, 415.305, 391.995, 369.994, 349.228,\n",
    "               329.628, 311.127, 293.665, 277.183, 261.626];\n",
    "tiempo = 2; # 2 segundos por nota\n",
    "fs = 8000;  # frecuencia de muestreo\n",
    "sonido = zeros(1, tiempo*fs*len(frecuencias));\n",
    "t = 1:(tiempo*fs) / fs;\n",
    "inicio = 1;\n",
    "fin = tiempo * fs;\n",
    "for k = 1:len(frecuencias),\n",
    "    nota = sin(2 * pi * t / frecuencias(k));\n",
    "    sonido(inicio:fin) = nota;\n",
    "    inicio = inicio + tiempo * fs;\n",
    "    fin = fin + tiempo * fs;\n",
    "end"
   ]
  },
  {
   "cell_type": "code",
   "execution_count": 2,
   "metadata": {},
   "outputs": [
    {
     "name": "stdout",
     "output_type": "stream",
     "text": [
      "error: 'frecuencias' undefined near line 1 column 5\n"
     ]
    }
   ],
   "source": [
    "len(frecuencias)"
   ]
  },
  {
   "cell_type": "code",
   "execution_count": null,
   "metadata": {
    "collapsed": true
   },
   "outputs": [],
   "source": []
  }
 ],
 "metadata": {
  "kernelspec": {
   "display_name": "Octave",
   "language": "octave",
   "name": "octave"
  },
  "language_info": {
   "file_extension": ".m",
   "help_links": [
    {
     "text": "GNU Octave",
     "url": "https://www.gnu.org/software/octave/support.html"
    },
    {
     "text": "Octave Kernel",
     "url": "https://github.com/Calysto/octave_kernel"
    },
    {
     "text": "MetaKernel Magics",
     "url": "https://github.com/calysto/metakernel/blob/master/metakernel/magics/README.md"
    }
   ],
   "mimetype": "text/x-octave",
   "name": "octave",
   "version": "4.2.2"
  }
 },
 "nbformat": 4,
 "nbformat_minor": 2
}
