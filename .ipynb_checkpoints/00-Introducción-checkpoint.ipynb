{
 "cells": [
  {
   "cell_type": "markdown",
   "metadata": {},
   "source": [
    "# Introducción\n",
    "\n",
    "Esto es un cuaderno de Jupyter (Jupyter notebook, en inglés). Como forma parte de una introducción a Python, está preparado para ser ejecutado en Google Colab, sin necesidad de instalar Python en tu computadora por el momento.\n",
    "\n",
    "Los cuadernos de Jupyter están compuestos por celdas, que pueden contener texto o unas pocos comandos o sentencias en Python. Este texto que estamos viendo forma parte de una celda.\n",
    "\n",
    "Todas las celdas pueden ser editadas."
   ]
  },
  {
   "cell_type": "markdown",
   "metadata": {},
   "source": [
    "## Como usar estos cuadernos\n",
    "\n",
    "Esta introducción esta preparada para que cada uno la lea a su ritmo. Las celdas con texto, como esta, contienen algunas explicaciones breves que ayudan a los lectores a interpretar las instrucciones en python de las celdas de código o ejecutables.\n",
    "\n",
    "Por ejemplo, a continuación puedes ver una celda de código o ejecutable que verifica si \"estamos\" en Google Colab y en tal caso, instala el material del curso en Google Drive, descargandolo de un sitio llamado github.\n",
    "\n",
    "Las celdas ejecutables pueden ser ejecutadas en forma interactiva, ubicando el cursor dentro de la celda respectiva y presionando simultáneamente las teclas Mayúscula y Entrada (shift y enter)."
   ]
  },
  {
   "cell_type": "code",
   "execution_count": 1,
   "metadata": {},
   "outputs": [],
   "source": [
    "import sys\n",
    "GOOGLE_COLAB = 'google.colab' in sys.modules\n",
    "\n",
    "if GOOGLE_COLAB:\n",
    "  # Clone the entire repo.\n",
    "  !git clone -l -s git://github.com/jakevdp/PythonDataScienceHandbook.git cloned-repo\n",
    "  %cd cloned-repo\n",
    "  !ls"
   ]
  }
 ],
 "metadata": {
  "kernelspec": {
   "display_name": "Python 3",
   "language": "python",
   "name": "python3"
  },
  "language_info": {
   "codemirror_mode": {
    "name": "ipython",
    "version": 3
   },
   "file_extension": ".py",
   "mimetype": "text/x-python",
   "name": "python",
   "nbconvert_exporter": "python",
   "pygments_lexer": "ipython3",
   "version": "3.7.3"
  }
 },
 "nbformat": 4,
 "nbformat_minor": 2
}
