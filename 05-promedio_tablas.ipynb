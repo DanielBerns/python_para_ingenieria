{
 "cells": [
  {
   "cell_type": "markdown",
   "metadata": {},
   "source": [
    "# Problema\n",
    "\n",
    "Calcular promedios de las columnas de una tabla\n",
    "\n",
    "## Primera version"
   ]
  },
  {
   "cell_type": "code",
   "execution_count": 1,
   "metadata": {
    "collapsed": true
   },
   "outputs": [],
   "source": [
    "import numpy as np"
   ]
  },
  {
   "cell_type": "code",
   "execution_count": 2,
   "metadata": {
    "collapsed": true
   },
   "outputs": [],
   "source": [
    "filas = 10000\n",
    "cols = 50  # numero de columnas\n",
    "tabla = np.random.uniform(size=(filas, cols))"
   ]
  },
  {
   "cell_type": "code",
   "execution_count": 3,
   "metadata": {},
   "outputs": [
    {
     "data": {
      "text/plain": [
       "0.5005318485563287"
      ]
     },
     "execution_count": 3,
     "metadata": {},
     "output_type": "execute_result"
    }
   ],
   "source": [
    "np.mean(tabla)"
   ]
  },
  {
   "cell_type": "code",
   "execution_count": 4,
   "metadata": {},
   "outputs": [
    {
     "data": {
      "text/plain": [
       "(50,)"
      ]
     },
     "execution_count": 4,
     "metadata": {},
     "output_type": "execute_result"
    }
   ],
   "source": [
    "promcols = np.mean(tabla, axis=0)\n",
    "promcols.shape"
   ]
  },
  {
   "cell_type": "code",
   "execution_count": 5,
   "metadata": {},
   "outputs": [
    {
     "data": {
      "text/plain": [
       "(10000,)"
      ]
     },
     "execution_count": 5,
     "metadata": {},
     "output_type": "execute_result"
    }
   ],
   "source": [
    "promfilas = np.mean(tabla, axis=1)\n",
    "promfilas.shape"
   ]
  },
  {
   "cell_type": "code",
   "execution_count": 6,
   "metadata": {},
   "outputs": [
    {
     "name": "stdout",
     "output_type": "stream",
     "text": [
      "0.5074776574172485\n",
      "0.5048657453703826\n",
      "0.5023561225756121\n",
      "0.4966673657835751\n",
      "0.4974000638816938\n",
      "0.49775259542681405\n",
      "0.49985231783127776\n",
      "0.4979350428362462\n",
      "0.5000096168244093\n",
      "0.5046904310562489\n",
      "0.5000993717101349\n",
      "0.4982752284427781\n",
      "0.4992634658338105\n",
      "0.5018934279443739\n",
      "0.4991394850761857\n",
      "0.49722850470580343\n",
      "0.4970449918106161\n",
      "0.5015480329630329\n",
      "0.5011853099846987\n",
      "0.5078717997764477\n",
      "0.5042951678749704\n",
      "0.49955596831452165\n",
      "0.5066499989636795\n",
      "0.5032704514331588\n",
      "0.4959818741637063\n",
      "0.4989367723385781\n",
      "0.5028616337155483\n",
      "0.5014330872031457\n",
      "0.504362687654879\n",
      "0.4968625240945808\n",
      "0.49826439476519646\n",
      "0.5025381362143042\n",
      "0.5033957727051681\n",
      "0.4988783227669171\n",
      "0.4971378326813051\n",
      "0.5026411351283967\n",
      "0.5030584197914494\n",
      "0.49749574601681823\n",
      "0.5034939414404876\n",
      "0.5027965691408732\n",
      "0.501406081636252\n",
      "0.4984173082005399\n",
      "0.4981716805198309\n",
      "0.5003416135810188\n",
      "0.49562246945267124\n",
      "0.5038467285862147\n",
      "0.498008057402182\n",
      "0.5013230310403515\n",
      "0.497013024371739\n",
      "0.4959754193665426\n"
     ]
    }
   ],
   "source": [
    "for valor in promcols:\n",
    "    print(valor)"
   ]
  },
  {
   "cell_type": "code",
   "execution_count": 7,
   "metadata": {},
   "outputs": [
    {
     "name": "stdout",
     "output_type": "stream",
     "text": [
      "0.50748\n",
      "0.50487\n",
      "0.50236\n",
      "0.49667\n",
      "0.49740\n",
      "0.49775\n",
      "0.49985\n",
      "0.49794\n",
      "0.50001\n",
      "0.50469\n",
      "0.50010\n",
      "0.49828\n",
      "0.49926\n",
      "0.50189\n",
      "0.49914\n",
      "0.49723\n",
      "0.49704\n",
      "0.50155\n",
      "0.50119\n",
      "0.50787\n",
      "0.50430\n",
      "0.49956\n",
      "0.50665\n",
      "0.50327\n",
      "0.49598\n",
      "0.49894\n",
      "0.50286\n",
      "0.50143\n",
      "0.50436\n",
      "0.49686\n",
      "0.49826\n",
      "0.50254\n",
      "0.50340\n",
      "0.49888\n",
      "0.49714\n",
      "0.50264\n",
      "0.50306\n",
      "0.49750\n",
      "0.50349\n",
      "0.50280\n",
      "0.50141\n",
      "0.49842\n",
      "0.49817\n",
      "0.50034\n",
      "0.49562\n",
      "0.50385\n",
      "0.49801\n",
      "0.50132\n",
      "0.49701\n",
      "0.49598\n"
     ]
    }
   ],
   "source": [
    "for valor in promcols:\n",
    "    print(f'{valor:.5f}')"
   ]
  },
  {
   "cell_type": "code",
   "execution_count": 8,
   "metadata": {
    "collapsed": true
   },
   "outputs": [],
   "source": [
    "def imprimir_promedios_columnas(tabla):\n",
    "    promcols = np.mean(tabla, axis=0)\n",
    "    for valor in promcols:\n",
    "        print(f'{valor:.5f}')"
   ]
  },
  {
   "cell_type": "code",
   "execution_count": 9,
   "metadata": {},
   "outputs": [
    {
     "name": "stdout",
     "output_type": "stream",
     "text": [
      "0.50131\n",
      "0.49863\n",
      "0.50051\n",
      "0.49485\n",
      "0.50245\n",
      "0.50075\n",
      "0.49982\n",
      "0.50402\n",
      "0.50121\n",
      "0.50056\n",
      "0.49991\n",
      "0.50158\n",
      "0.49786\n",
      "0.49541\n",
      "0.49964\n",
      "0.50097\n",
      "0.49692\n",
      "0.49845\n",
      "0.50647\n",
      "0.50271\n",
      "0.49751\n",
      "0.50382\n",
      "0.49715\n",
      "0.50007\n",
      "0.50078\n",
      "0.50326\n",
      "0.50346\n",
      "0.50223\n",
      "0.49806\n",
      "0.50076\n",
      "0.49961\n",
      "0.49884\n",
      "0.49996\n",
      "0.50302\n",
      "0.49594\n",
      "0.49730\n",
      "0.50056\n",
      "0.50035\n",
      "0.49903\n",
      "0.50150\n",
      "0.50146\n",
      "0.50322\n",
      "0.49848\n",
      "0.49776\n",
      "0.50457\n",
      "0.50184\n",
      "0.49263\n",
      "0.50272\n",
      "0.49898\n",
      "0.50033\n"
     ]
    }
   ],
   "source": [
    "filas = 10000\n",
    "cols = 50\n",
    "tabla = np.random.uniform(size=(filas, cols))\n",
    "imprimir_promedios_columnas(tabla)"
   ]
  },
  {
   "cell_type": "code",
   "execution_count": 10,
   "metadata": {},
   "outputs": [
    {
     "name": "stdout",
     "output_type": "stream",
     "text": [
      "0.51961\n",
      "0.56667\n",
      "0.47000\n",
      "0.51821\n",
      "0.35090\n"
     ]
    }
   ],
   "source": [
    "filas = 10\n",
    "cols = 5\n",
    "tabla = np.random.uniform(size=(filas, cols))\n",
    "imprimir_promedios_columnas(tabla)"
   ]
  },
  {
   "cell_type": "code",
   "execution_count": 11,
   "metadata": {
    "collapsed": true
   },
   "outputs": [],
   "source": [
    "desde_archivo = np.loadtxt('tabla_para_promedios.txt', delimiter=',')"
   ]
  },
  {
   "cell_type": "code",
   "execution_count": 12,
   "metadata": {},
   "outputs": [
    {
     "data": {
      "text/plain": [
       "array([[ 5.3,  6.7,  8.5],\n",
       "       [ 1.2, -1.2,  4.1]])"
      ]
     },
     "execution_count": 12,
     "metadata": {},
     "output_type": "execute_result"
    }
   ],
   "source": [
    "desde_archivo"
   ]
  },
  {
   "cell_type": "code",
   "execution_count": 14,
   "metadata": {},
   "outputs": [
    {
     "name": "stdout",
     "output_type": "stream",
     "text": [
      "3.25000\n",
      "2.75000\n",
      "6.30000\n"
     ]
    }
   ],
   "source": [
    "imprimir_promedios_columnas(desde_archivo)"
   ]
  },
  {
   "cell_type": "code",
   "execution_count": null,
   "metadata": {
    "collapsed": true
   },
   "outputs": [],
   "source": []
  }
 ],
 "metadata": {
  "kernelspec": {
   "display_name": "Python 3",
   "language": "python",
   "name": "python3"
  },
  "language_info": {
   "codemirror_mode": {
    "name": "ipython",
    "version": 3
   },
   "file_extension": ".py",
   "mimetype": "text/x-python",
   "name": "python",
   "nbconvert_exporter": "python",
   "pygments_lexer": "ipython3",
   "version": "3.6.5"
  }
 },
 "nbformat": 4,
 "nbformat_minor": 2
}
