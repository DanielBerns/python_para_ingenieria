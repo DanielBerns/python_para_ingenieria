{
 "cells": [
  {
   "cell_type": "markdown",
   "metadata": {},
   "source": [
    "# Como definir clases"
   ]
  },
  {
   "cell_type": "markdown",
   "metadata": {},
   "source": [
    "Lo que hemos visto hasta ahora es como escribir o codificar clases y módulos, y parece sencillo. Si queremos escribir una clase nueva tenemos que pensar en como definirla.\n",
    "\n",
    "Por ejemplo, hasta ahora definimos las clases Persona, Universitarie, Profesor, Estudiante y Ciclista.\n",
    "\n",
    "1. Un Estudiante (subclase) es-un Universitarie (superclase)\n",
    "2. Un Profesor (subclase) es-un Universitarie (superclase)\n",
    "3. Un Universitarie (subclase) es-un Persona (superclase)\n",
    "4. Un Ciclista (subclase) es-un Persona (superclase)\n",
    "\n",
    "Esto funcionó bien, para lo que queriamos hacer: definir nuestras primeras clases."
   ]
  },
  {
   "cell_type": "markdown",
   "metadata": {},
   "source": [
    "Supongamos ahora que queremos agregar 2 clases nuevas: Comprador y Vendedor. En lugar de cursos, Comprador y Vendedor manejan mercaderías y dinero.\n",
    "\n",
    "Parece trivial definir:\n",
    "1. Un Comprador (subclase) es-un Persona (superclase)\n",
    "2. Un Vendedor (subclase) es-un Persona (superclase)\n",
    "\n",
    "Supongamos que escribimos el código para las nuevas clases Comprador y Vendedor."
   ]
  },
  {
   "cell_type": "markdown",
   "metadata": {},
   "source": [
    "Preguntas:\n",
    "\n",
    "1. ¿Puede un Estudiante ser un Comprador o Vendedor?\n",
    "2. ¿Puede un Profesor ser un Comprador o Vendedor?\n",
    "3. ¿Un Ciclista puede ser Estudiante, Profesor, Comprador o Vendedor)\n",
    "\n",
    "Obviamente, un Estudiante o un Profesor no pueden ser Comprador o Vendedor, de la forma en que están definidas las clases. Entonces, la verdadera pregunta es: ¿Como podemos definir la clase Persona para después poder definir nuevas clases y así reusar código sin necesidad de modificar?"
   ]
  },
  {
   "cell_type": "markdown",
   "metadata": {},
   "source": [
    "Una forma de diseñar clases es pensar en una historia acerca de los objetos que vamos a usar.\n",
    "\n",
    "Por ejemplo, una persona nace en una fecha determinada, recibe un nombre y apellido y tiene un domicilio.\n",
    "La fecha de nacimiento, el nombre y apellido no pueden cambiar, pero si puede cambiar el domicilio.\n",
    "Además, cada persona puede hacer diferentes cosas: jugar, estudiar, comprar, vender, enseñar, trabajar, viajar,\n",
    "andar en bici, etc.\n"
   ]
  },
  {
   "cell_type": "code",
   "execution_count": 1,
   "metadata": {
    "collapsed": true
   },
   "outputs": [],
   "source": [
    "class Caracteristica:\n",
    "    def __init__(self, nombre, atributos):\n",
    "        self._nombre = nombre\n",
    "        self._atributos = atributos\n",
    "\n",
    "    @property\n",
    "    def nombre(self):\n",
    "        return self._nombre\n",
    "    \n",
    "    @property\n",
    "    def atributos(self):\n",
    "        return self._atributos\n",
    "\n",
    "    def mostrar(self, margen=0):\n",
    "        _margen = margen + 2\n",
    "        print(' '*_margen, self.nombre)\n",
    "        _margen = _margen + 2\n",
    "        for clave, valor in self.atributos.items():\n",
    "            print(' '*_margen, f'{clave:s}: {str(valor):s}')\n",
    "\n",
    "\n",
    "class Persona:\n",
    "    def __init__(self, nacimiento, nombre, apellido, domicilio):\n",
    "        self._nacimiento = nacimiento # el objeto de la clase Persona tiene un campo nacimiento\n",
    "        self._nombre = nombre # el objeto de la clase Persona tiene un campo nombre\n",
    "        self._apellido = apellido # el objeto de la clase Persona tiene un campo apellido\n",
    "        self._domicilio = domicilio # el objeto de la clase Persona tiene un campo nacimiento\n",
    "        self._caracteristicas = []\n",
    "    \n",
    "    @property\n",
    "    def nacimiento(self):\n",
    "        return self._nacimiento\n",
    "    \n",
    "    @property\n",
    "    def nombre(self):\n",
    "        return self._nombre\n",
    "    \n",
    "    @property\n",
    "    def apellido(self):\n",
    "        return self._apellido\n",
    "    \n",
    "    @property\n",
    "    def domicilio(self):\n",
    "        return self._domicilio\n",
    "    \n",
    "    @domicilio.setter\n",
    "    def domicilio(self, valor):\n",
    "        self._domicilio = valor\n",
    "\n",
    "    @property\n",
    "    def caracteristicas(self):\n",
    "        return self._caracteristicas\n",
    "\n",
    "    def agregar_caracteristica(self, caracteristica):\n",
    "        self.caracteristicas.append(caracteristica)\n",
    "    \n",
    "    def mostrar(self):\n",
    "        \"\"\"mostrar en pantalla\n",
    "        \"\"\"\n",
    "        print(f'-'*80)\n",
    "        print(f'Nacimiento       : {self.nacimiento[0]:02d}: {self.nacimiento[1]:02d}:{self.nacimiento[2]:4d}')\n",
    "        print(f'Nombre y apellido: {self.nombre:s}{self.apellido:s}')\n",
    "        print(f'Domicilio        : {self.domicilio:s}')\n",
    "        for caracteristica in self.caracteristicas:\n",
    "            caracteristica.mostrar()\n"
   ]
  },
  {
   "cell_type": "code",
   "execution_count": 2,
   "metadata": {
    "collapsed": true
   },
   "outputs": [],
   "source": [
    "comprador = Caracteristica('comprador', {'objeto.1': 'fruta', \n",
    "                                         'objeto.2': 'carne', \n",
    "                                         'objeto.3': 'verdura',\n",
    "                                         'objeto.4': 'pescado'})\n",
    "vendedor_1 = Caracteristica('vendedor.carniceria', \n",
    "                           {'mercaderia.1': {'nombre': 'carne.vaca', 'precio': 20},\n",
    "                            'mercaderia.2': {'nombre': 'carne.cerdo', 'precio': 18},\n",
    "                            'mercaderia.3': {'nombre': 'carne.pollo', 'precio': 15}\n",
    "                           })\n",
    "vendedor_2 = Caracteristica('vendedor.verduleria', \n",
    "                           {'mercaderia.1': {'nombre': 'fruta.manzana', 'precio': 12}, \n",
    "                            'mercaderia.2': {'nombre': 'verdura.zanahoria', 'precio': 10},\n",
    "                            'mercaderia.3': {'nombre': 'verdura.tomate', 'precio': 9}\n",
    "                           })\n",
    "vendedor_3 = Caracteristica('vendedor.pescaderia', \n",
    "                           {'mercaderia.1': {'nombre': 'carne.pescado.pejerrey', 'precio': 12}, \n",
    "                            'mercaderia.2': {'nombre': 'carne.pescado.salmon', 'precio': 10}})\n",
    "\n",
    "\n",
    "\n",
    "\n",
    "estudiante_1 = Caracteristica('estudiante.1', \n",
    "                                  {'curso.1': 'fisica.1', 'curso.2': 'matematica.1'}\n",
    "                                 )\n",
    "estudiante_2 = Caracteristica('estudiante.2', {'curso.1': 'lengua.1', 'curso.2': 'historia.1'}\n",
    "                                                                   )\n",
    "profesor_1 = Caracteristica('profesor.matematica', \n",
    "                                  {'nombre': 'curso.matematica.1', \n",
    "                                   'clases': [{'dia': 'martes', 'inicio': '15:00', 'fin': '17:00'},\n",
    "                                              {'dia': 'jueves', 'inicio': '17:00', 'fin': '19:00'},\n",
    "                                             ]\n",
    "                                  }\n",
    "                                 )\n",
    "profesor_2 = Caracteristica('profesor.fisica', \n",
    "                                  {'nombre': 'curso.fisica.1', \n",
    "                                   'clases': [{'dia': 'lunes', 'inicio': '15:00', 'fin': '17:00'},\n",
    "                                              {'dia': 'viernes', 'inicio': '15:00', 'fin': '17:00'}]\n",
    "                                  }\n",
    "                                 )"
   ]
  },
  {
   "cell_type": "code",
   "execution_count": 3,
   "metadata": {
    "collapsed": true
   },
   "outputs": [],
   "source": [
    "profesor_3 = Caracteristica('profesor.lengua', \n",
    "                                  {'nombre': 'curso.lengua.1', \n",
    "                                   'clases': [{'dia': 'martes', 'inicio': '17:00', 'fin': '19:00'},\n",
    "                                              {'dia': 'jueves', 'inicio': '15:00', 'fin': '17:00'},\n",
    "                                             ]\n",
    "                                  }\n",
    "                                 )\n",
    "profesor_4 = Caracteristica('profesor.historia', \n",
    "                                  {'nombre': 'curso.historia.1', \n",
    "                                   'clases': [{'dia': 'lunes', 'inicio': '17:00', 'fin': '19:00'},\n",
    "                                              {'dia': 'viernes', 'inicio': '17:00', 'fin': '19:00'}]\n",
    "                                  }\n",
    "                                 )"
   ]
  },
  {
   "cell_type": "code",
   "execution_count": 4,
   "metadata": {},
   "outputs": [
    {
     "name": "stdout",
     "output_type": "stream",
     "text": [
      "--------------------------------------------------------------------------------\n",
      "Nacimiento       :01:01:1962\n",
      "Nombre y apellido:PepePotamo\n",
      "Domicilio        :La laguna 789\n",
      "   comprador\n",
      "     objeto.1: fruta\n",
      "     objeto.2: carne\n",
      "     objeto.3: verdura\n",
      "     objeto.4: pescado\n",
      "   profesor.matematica\n",
      "     nombre: curso.matematica.1\n",
      "     clases: [{'dia': 'martes', 'inicio': '15:00', 'fin': '17:00'}, {'dia': 'jueves', 'inicio': '17:00', 'fin': '19:00'}]\n",
      "   estudiante.2\n",
      "     curso.1: lengua.1\n",
      "     curso.2: historia.1\n"
     ]
    }
   ],
   "source": [
    "p1 = Persona([1,1,1962], 'Pepe', 'Potamo', 'La laguna 789')\n",
    "p1.agregar_caracteristica(comprador)\n",
    "p1.agregar_caracteristica(profesor_1)\n",
    "p1.agregar_caracteristica(estudiante_2)\n",
    "p1.mostrar()"
   ]
  },
  {
   "cell_type": "code",
   "execution_count": null,
   "metadata": {
    "collapsed": true
   },
   "outputs": [],
   "source": []
  }
 ],
 "metadata": {
  "kernelspec": {
   "display_name": "Python 3",
   "language": "python",
   "name": "python3"
  },
  "language_info": {
   "codemirror_mode": {
    "name": "ipython",
    "version": 3
   },
   "file_extension": ".py",
   "mimetype": "text/x-python",
   "name": "python",
   "nbconvert_exporter": "python",
   "pygments_lexer": "ipython3",
   "version": "3.6.5"
  }
 },
 "nbformat": 4,
 "nbformat_minor": 2
}
