{
 "cells": [
  {
   "cell_type": "markdown",
   "metadata": {},
   "source": [
    "# Packages Python"
   ]
  },
  {
   "cell_type": "markdown",
   "metadata": {},
   "source": [
    "Muchas veces, es necesario emplear varios módulos a la vez. En estos casos, es posible crear un conjunto de módulos o package (paquete).\n",
    "\n",
    "Si creamos un directorio, y dentro de el creamos un archivo __init__.py entonces Python considera que todos los módulos contenidos en el directorio forman un package o paquete. Esto permite emplear una forma especial y bastante cómoda para importar distintas variables, clases, y funciones. "
   ]
  },
  {
   "cell_type": "markdown",
   "metadata": {},
   "source": [
    "La gran ventaja de Python respecto a otros lenguajes de programación está fundada en la gran cantidad de paquetes disponible. Por ejemplo, en este curso vamos a ver ejemplos de los siguientes paquetes\n",
    "\n",
    "- numpy\n",
    "- matplotlib\n",
    "- pandas\n",
    "- opencv\n",
    "- requests\n",
    "- tensorflow"
   ]
  },
  {
   "cell_type": "markdown",
   "metadata": {},
   "source": [
    "## Como instalar packages"
   ]
  },
  {
   "cell_type": "markdown",
   "metadata": {},
   "source": [
    "Para emplear paquetes, necesitamos instalarlos. Esto hecho tiene sus problemas con soluciones que necesitamos conocer. \n",
    "\n",
    "- Instalador pip en el sistema global\n",
    "- Instalador pip con entornos virtuales (virtualenv o venv)\n",
    "- Instalador conda (miniconda o anaconda) que emplea entornos virtuales por defecto, no por opción"
   ]
  }
 ],
 "metadata": {
  "kernelspec": {
   "display_name": "Python 3",
   "language": "python",
   "name": "python3"
  },
  "language_info": {
   "codemirror_mode": {
    "name": "ipython",
    "version": 3
   },
   "file_extension": ".py",
   "mimetype": "text/x-python",
   "name": "python",
   "nbconvert_exporter": "python",
   "pygments_lexer": "ipython3",
   "version": "3.6.5"
  }
 },
 "nbformat": 4,
 "nbformat_minor": 2
}
