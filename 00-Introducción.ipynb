{
 "cells": [
  {
   "cell_type": "markdown",
   "metadata": {},
   "source": [
    "# Introducción\n",
    "\n",
    "Esto es un cuaderno de Jupyter (Jupyter notebook, en inglés). Como forma parte de una introducción a Python, está preparado para ser ejecutado en Google Colab, sin necesidad de instalar Python en tu computadora por el momento.\n",
    "\n",
    "Los cuadernos de Jupyter están compuestos por celdas, que pueden contener texto o unas pocos comandos o sentencias en Python. Este texto que estamos viendo forma parte de una celda.\n",
    "\n",
    "Todas las celdas pueden ser editadas."
   ]
  },
  {
   "cell_type": "markdown",
   "metadata": {},
   "source": [
    "## Como usar estos cuadernos\n",
    "\n",
    "Esta introducción esta preparada para que cada uno la lea a su ritmo. Las celdas con texto, como esta, contienen algunas explicaciones breves que ayudan a los lectores a interpretar las instrucciones en python de las celdas de código o ejecutables.\n",
    "\n",
    "Por ejemplo, a continuación puedes ver una celda de código o ejecutable que verifica si \"estamos\" en Google Colab y en tal caso, instala el material del curso en Google Drive, descargandolo de un sitio llamado [Github](https://github.com/), y lo guarda en Google Drive en un directorio de nombre py4ing.\n",
    "\n",
    "Las celdas ejecutables pueden ser ejecutadas en forma interactiva, ubicando el cursor dentro de la celda respectiva y presionando simultáneamente las teclas Mayúscula y Entrada (shift y enter)."
   ]
  },
  {
   "cell_type": "code",
   "execution_count": 1,
   "metadata": {},
   "outputs": [],
   "source": [
    "import sys\n",
    "GOOGLE_COLAB = 'google.colab' in sys.modules\n",
    "\n",
    "if GOOGLE_COLAB:\n",
    "  # Clone the entire repo.\n",
    "  !git clone -l -s git://github.com/DanielBerns/python_para_ingenieria.git py4ing\n",
    "  %cd py4ing\n",
    "  !ls"
   ]
  },
  {
   "cell_type": "markdown",
   "metadata": {},
   "source": [
    "## Porqué usamos Google Colab\n",
    "\n",
    "Usamos Google Colab para:\n",
    "1. Poder aprender los fundamentos de Python sin necesidad de instalarlo en nuestras computadoras personales. Colab puede ser usado hasta en un smartphone.\n",
    "2. Poder usar los recursos de Google en forma gratuita: en Colab tenemos acceso a procesadores especiales (GPU y TPU) con velocidades de ejecución mucho más altas que nuestras computadoras.\n",
    "3. Los cuadernos en Colab pueden ser compartidos con otras personas, como vamos a hacer en este curso.\n",
    "4. En Colab es muy sencillo instalar correctamente librerias actualizadas."
   ]
  },
  {
   "cell_type": "markdown",
   "metadata": {},
   "source": [
    "## Porqué usamos Github\n",
    "\n",
    "Github es uno de los servidores públicos del sistema Git, que es un sistema de control de versiones.\n",
    "\n",
    "### GIT, sistema de control de versiones\n",
    "\n",
    "Cuando trabajamos varios días seguidos en un documento, cada día tenemos una versión distinta del mismo documento, con diferentes grados de avance y elaboración. Cuando compartimos el documento con otras personas, en realidad compartimos una de las versiones, y si alguien modifica esa versión tenemos otra versión más. Entonces, la pregunta es: ¿Cuál es la versión correcta?\n",
    "\n",
    "Los sistemas de control de versiones nos permiten manejar todas las versiones de un documento, resolviendo los problemas de pérdida de información por modificaciones, y facilitan el compartir documentos con otras personas.\n",
    "\n",
    "Existen varios sistemas de control de versiones, pero Git es el empleado por los programadores que trabajan en el núcleo de Linux. De hecho, Git es un desarrollo de Linus Torvalds, el creador de Linux."
   ]
  },
  {
   "cell_type": "markdown",
   "metadata": {},
   "source": [
    "## Clientes de Git\n",
    "\n",
    "Para interactuar con un servidor Git, necesitamos un cliente Git, un programa con varias opciones disponibles.\n",
    "\n",
    "### Google Colab\n",
    "Colab dispone de un cliente git, ya instalado, que puede interactuar con el servidor en Github. De hecho, lo usamos en la celda ejecutable al principio de este cuaderno. \n",
    "\n",
    "### Opciones para windows\n",
    "1. [Github desktop](https://desktop.github.com/)\n",
    "2. [SourceTree](https://www.sourcetreeapp.com/)\n",
    "3. [GitKraken](https://www.gitkraken.com/)\n",
    "4. [SmartGit](https://www.syntevo.com/smartgit/)\n",
    "\n",
    "### Opciones para Linux\n",
    "1. Línea de comando: git\n",
    "2. [GitKraken](https://www.gitkraken.com/)\n",
    "3. [SmartGit](https://www.syntevo.com/smartgit/)\n",
    "4. [GitG](https://wiki.gnome.org/Apps/Gitg/)\n",
    "\n",
    "### VisualStudio\n",
    "Si usan VisualStudio tienen un plugin que permite interactuar con Github.\n"
   ]
  },
  {
   "cell_type": "markdown",
   "metadata": {},
   "source": [
    "## Anaconda, un instalador para una versión local de Google Colab\n",
    "\n",
    "Si no queremos usar Google Colab, podemos instalar una versión local en nuestras computadoras empleando el instalador [Anaconda](https://www.anaconda.com/open-source).\n",
    "\n",
    "De esta forma, podemos instalar en forma local, Python, varias librerías de cálculo científico, un servidor llamado Jupyter (con una interfaz similar a Google Colab), un entorno de trabajo denominado JupyterLab (interfaz web) y otro denominado Spyder (interfaz de escritorio).\n"
   ]
  },
  {
   "cell_type": "markdown",
   "metadata": {},
   "source": [
    "## Plan de trabajo\n",
    "\n",
    "**Por el momento, vamos a iniciar el trabajo en Google Colab.** \n",
    "\n",
    "Sin embargo, si están interesados y motivados, pueden usar Anaconda para instalar Jupyter y JupyterLab. Además, instalando un cliente de Git pueden clonar el repositorio. De esta forma pueden trabajar en sus computadoras.\n",
    "\n",
    "**Una vez que tengamos los conceptos básicos de Python, vamos a trabajar en el sitio web [pythonanywhere](https://www.pythonanywhere.com/).**\n",
    "\n",
    "Si bien [pythonanywhere](https://www.pythonanywhere.com/) también permite emplear cuadernos como estos en sus cuentas de usuario pagas, nosotros vamos a usar las cuentas gratuitas que nos dan acceso a una consola Linux con un cliente git para la línea de comando. Este entorno de trabajo, que parece tan primitivo, es usual en [Internet of things](https://www.ibm.com/blogs/internet-of-things/what-is-the-iot/). Por lo tanto, debemos conocerlo.\n",
    "\n",
    "Si desean hacerlo, pueden usar una Raspberry Pi con Linux, conectada al router de la red local de sus casas y hacer la misma práctica que vamos a realizar en [pythonanywhere](https://www.pythonanywhere.com/).\n",
    "\n",
    "**La evaluación será basada en los ejercicios propuestos en [Python Koans](https://github.com/gregmalcolm/python_koans).**\n",
    "\n",
    " Los ejercicios de evaluación pueden ser resueltos trabajando en [pythonanywhere](https://www.pythonanywhere.com/), en una Raspberry Pi, o en una computadora personal (de escritorio o portátil)."
   ]
  },
  {
   "cell_type": "code",
   "execution_count": null,
   "metadata": {},
   "outputs": [],
   "source": []
  }
 ],
 "metadata": {
  "kernelspec": {
   "display_name": "Python 3",
   "language": "python",
   "name": "python3"
  },
  "language_info": {
   "codemirror_mode": {
    "name": "ipython",
    "version": 3
   },
   "file_extension": ".py",
   "mimetype": "text/x-python",
   "name": "python",
   "nbconvert_exporter": "python",
   "pygments_lexer": "ipython3",
   "version": "3.8.5"
  }
 },
 "nbformat": 4,
 "nbformat_minor": 4
}
