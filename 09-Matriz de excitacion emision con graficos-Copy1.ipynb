{
 "cells": [
  {
   "cell_type": "code",
   "execution_count": 1,
   "metadata": {},
   "outputs": [],
   "source": [
    "import numpy as np"
   ]
  },
  {
   "cell_type": "code",
   "execution_count": 2,
   "metadata": {},
   "outputs": [],
   "source": [
    "import pandas as pd"
   ]
  },
  {
   "cell_type": "code",
   "execution_count": 3,
   "metadata": {},
   "outputs": [
    {
     "data": {
      "text/html": [
       "<div>\n",
       "<style scoped>\n",
       "    .dataframe tbody tr th:only-of-type {\n",
       "        vertical-align: middle;\n",
       "    }\n",
       "\n",
       "    .dataframe tbody tr th {\n",
       "        vertical-align: top;\n",
       "    }\n",
       "\n",
       "    .dataframe thead th {\n",
       "        text-align: right;\n",
       "    }\n",
       "</style>\n",
       "<table border=\"1\" class=\"dataframe\">\n",
       "  <thead>\n",
       "    <tr style=\"text-align: right;\">\n",
       "      <th></th>\n",
       "      <th>0</th>\n",
       "      <th>1</th>\n",
       "      <th>2</th>\n",
       "      <th>3</th>\n",
       "      <th>4</th>\n",
       "      <th>5</th>\n",
       "      <th>6</th>\n",
       "      <th>7</th>\n",
       "      <th>8</th>\n",
       "      <th>9</th>\n",
       "      <th>...</th>\n",
       "      <th>14</th>\n",
       "      <th>15</th>\n",
       "      <th>16</th>\n",
       "      <th>17</th>\n",
       "      <th>18</th>\n",
       "      <th>19</th>\n",
       "      <th>20</th>\n",
       "      <th>21</th>\n",
       "      <th>22</th>\n",
       "      <th>23</th>\n",
       "    </tr>\n",
       "  </thead>\n",
       "  <tbody>\n",
       "    <tr>\n",
       "      <td>0</td>\n",
       "      <td>XYDATA1</td>\n",
       "      <td>240.0000</td>\n",
       "      <td>245.0000</td>\n",
       "      <td>250.0000</td>\n",
       "      <td>255.0000</td>\n",
       "      <td>260.0000</td>\n",
       "      <td>265.0000</td>\n",
       "      <td>270.0000</td>\n",
       "      <td>275.0000</td>\n",
       "      <td>280.0000</td>\n",
       "      <td>...</td>\n",
       "      <td>305.00000</td>\n",
       "      <td>310.00000</td>\n",
       "      <td>315.00000</td>\n",
       "      <td>320.00000</td>\n",
       "      <td>325.00000</td>\n",
       "      <td>330.00000</td>\n",
       "      <td>335.00000</td>\n",
       "      <td>340.00000</td>\n",
       "      <td>345.00000</td>\n",
       "      <td>350.00000</td>\n",
       "    </tr>\n",
       "    <tr>\n",
       "      <td>1</td>\n",
       "      <td>250</td>\n",
       "      <td>243.4220</td>\n",
       "      <td>0.0000</td>\n",
       "      <td>0.0000</td>\n",
       "      <td>0.0000</td>\n",
       "      <td>0.0000</td>\n",
       "      <td>0.0000</td>\n",
       "      <td>0.0000</td>\n",
       "      <td>0.0000</td>\n",
       "      <td>0.0000</td>\n",
       "      <td>...</td>\n",
       "      <td>0.00000</td>\n",
       "      <td>0.00000</td>\n",
       "      <td>0.00000</td>\n",
       "      <td>0.00000</td>\n",
       "      <td>0.00000</td>\n",
       "      <td>0.00000</td>\n",
       "      <td>0.00000</td>\n",
       "      <td>0.00000</td>\n",
       "      <td>0.00000</td>\n",
       "      <td>0.00000</td>\n",
       "    </tr>\n",
       "    <tr>\n",
       "      <td>2</td>\n",
       "      <td>251</td>\n",
       "      <td>147.7220</td>\n",
       "      <td>0.0000</td>\n",
       "      <td>0.0000</td>\n",
       "      <td>0.0000</td>\n",
       "      <td>0.0000</td>\n",
       "      <td>0.0000</td>\n",
       "      <td>0.0000</td>\n",
       "      <td>0.0000</td>\n",
       "      <td>0.0000</td>\n",
       "      <td>...</td>\n",
       "      <td>0.00000</td>\n",
       "      <td>0.00000</td>\n",
       "      <td>0.00000</td>\n",
       "      <td>0.00000</td>\n",
       "      <td>0.00000</td>\n",
       "      <td>0.00000</td>\n",
       "      <td>0.00000</td>\n",
       "      <td>0.00000</td>\n",
       "      <td>0.00000</td>\n",
       "      <td>0.00000</td>\n",
       "    </tr>\n",
       "    <tr>\n",
       "      <td>3</td>\n",
       "      <td>252</td>\n",
       "      <td>88.5131</td>\n",
       "      <td>0.0000</td>\n",
       "      <td>0.0000</td>\n",
       "      <td>0.0000</td>\n",
       "      <td>0.0000</td>\n",
       "      <td>0.0000</td>\n",
       "      <td>0.0000</td>\n",
       "      <td>0.0000</td>\n",
       "      <td>0.0000</td>\n",
       "      <td>...</td>\n",
       "      <td>0.00000</td>\n",
       "      <td>0.00000</td>\n",
       "      <td>0.00000</td>\n",
       "      <td>0.00000</td>\n",
       "      <td>0.00000</td>\n",
       "      <td>0.00000</td>\n",
       "      <td>0.00000</td>\n",
       "      <td>0.00000</td>\n",
       "      <td>0.00000</td>\n",
       "      <td>0.00000</td>\n",
       "    </tr>\n",
       "    <tr>\n",
       "      <td>4</td>\n",
       "      <td>253</td>\n",
       "      <td>58.5342</td>\n",
       "      <td>0.0000</td>\n",
       "      <td>0.0000</td>\n",
       "      <td>0.0000</td>\n",
       "      <td>0.0000</td>\n",
       "      <td>0.0000</td>\n",
       "      <td>0.0000</td>\n",
       "      <td>0.0000</td>\n",
       "      <td>0.0000</td>\n",
       "      <td>...</td>\n",
       "      <td>0.00000</td>\n",
       "      <td>0.00000</td>\n",
       "      <td>0.00000</td>\n",
       "      <td>0.00000</td>\n",
       "      <td>0.00000</td>\n",
       "      <td>0.00000</td>\n",
       "      <td>0.00000</td>\n",
       "      <td>0.00000</td>\n",
       "      <td>0.00000</td>\n",
       "      <td>0.00000</td>\n",
       "    </tr>\n",
       "    <tr>\n",
       "      <td>...</td>\n",
       "      <td>...</td>\n",
       "      <td>...</td>\n",
       "      <td>...</td>\n",
       "      <td>...</td>\n",
       "      <td>...</td>\n",
       "      <td>...</td>\n",
       "      <td>...</td>\n",
       "      <td>...</td>\n",
       "      <td>...</td>\n",
       "      <td>...</td>\n",
       "      <td>...</td>\n",
       "      <td>...</td>\n",
       "      <td>...</td>\n",
       "      <td>...</td>\n",
       "      <td>...</td>\n",
       "      <td>...</td>\n",
       "      <td>...</td>\n",
       "      <td>...</td>\n",
       "      <td>...</td>\n",
       "      <td>...</td>\n",
       "      <td>...</td>\n",
       "    </tr>\n",
       "    <tr>\n",
       "      <td>147</td>\n",
       "      <td>396</td>\n",
       "      <td>34.7146</td>\n",
       "      <td>24.0361</td>\n",
       "      <td>19.8404</td>\n",
       "      <td>18.2831</td>\n",
       "      <td>18.0061</td>\n",
       "      <td>21.6931</td>\n",
       "      <td>24.8205</td>\n",
       "      <td>24.1487</td>\n",
       "      <td>23.3547</td>\n",
       "      <td>...</td>\n",
       "      <td>2.51955</td>\n",
       "      <td>2.11692</td>\n",
       "      <td>2.04140</td>\n",
       "      <td>2.11355</td>\n",
       "      <td>2.73878</td>\n",
       "      <td>3.39701</td>\n",
       "      <td>3.24041</td>\n",
       "      <td>3.24583</td>\n",
       "      <td>4.27608</td>\n",
       "      <td>4.76376</td>\n",
       "    </tr>\n",
       "    <tr>\n",
       "      <td>148</td>\n",
       "      <td>397</td>\n",
       "      <td>35.6042</td>\n",
       "      <td>24.9160</td>\n",
       "      <td>20.1008</td>\n",
       "      <td>17.8679</td>\n",
       "      <td>17.9576</td>\n",
       "      <td>21.0134</td>\n",
       "      <td>24.0698</td>\n",
       "      <td>23.6970</td>\n",
       "      <td>22.7701</td>\n",
       "      <td>...</td>\n",
       "      <td>2.49453</td>\n",
       "      <td>2.11820</td>\n",
       "      <td>2.03742</td>\n",
       "      <td>2.11199</td>\n",
       "      <td>2.74647</td>\n",
       "      <td>3.40923</td>\n",
       "      <td>3.26989</td>\n",
       "      <td>3.20430</td>\n",
       "      <td>4.04668</td>\n",
       "      <td>4.87431</td>\n",
       "    </tr>\n",
       "    <tr>\n",
       "      <td>149</td>\n",
       "      <td>398</td>\n",
       "      <td>35.8902</td>\n",
       "      <td>25.2825</td>\n",
       "      <td>20.2506</td>\n",
       "      <td>17.5917</td>\n",
       "      <td>17.7705</td>\n",
       "      <td>20.3869</td>\n",
       "      <td>23.4513</td>\n",
       "      <td>23.2890</td>\n",
       "      <td>22.2280</td>\n",
       "      <td>...</td>\n",
       "      <td>2.49650</td>\n",
       "      <td>2.13446</td>\n",
       "      <td>2.02279</td>\n",
       "      <td>2.10997</td>\n",
       "      <td>2.73708</td>\n",
       "      <td>3.41049</td>\n",
       "      <td>3.27512</td>\n",
       "      <td>3.15887</td>\n",
       "      <td>3.84407</td>\n",
       "      <td>4.91890</td>\n",
       "    </tr>\n",
       "    <tr>\n",
       "      <td>150</td>\n",
       "      <td>399</td>\n",
       "      <td>36.1975</td>\n",
       "      <td>24.9185</td>\n",
       "      <td>19.9447</td>\n",
       "      <td>17.9200</td>\n",
       "      <td>17.4324</td>\n",
       "      <td>19.6805</td>\n",
       "      <td>22.8174</td>\n",
       "      <td>23.0173</td>\n",
       "      <td>21.6444</td>\n",
       "      <td>...</td>\n",
       "      <td>2.51309</td>\n",
       "      <td>2.18233</td>\n",
       "      <td>2.01207</td>\n",
       "      <td>2.12339</td>\n",
       "      <td>2.69523</td>\n",
       "      <td>3.39495</td>\n",
       "      <td>3.28778</td>\n",
       "      <td>3.11535</td>\n",
       "      <td>3.66849</td>\n",
       "      <td>4.88334</td>\n",
       "    </tr>\n",
       "    <tr>\n",
       "      <td>151</td>\n",
       "      <td>400</td>\n",
       "      <td>36.6443</td>\n",
       "      <td>24.8142</td>\n",
       "      <td>20.1132</td>\n",
       "      <td>18.0498</td>\n",
       "      <td>17.2296</td>\n",
       "      <td>18.8465</td>\n",
       "      <td>22.3682</td>\n",
       "      <td>22.4821</td>\n",
       "      <td>21.0398</td>\n",
       "      <td>...</td>\n",
       "      <td>2.53514</td>\n",
       "      <td>2.21012</td>\n",
       "      <td>1.98718</td>\n",
       "      <td>2.13059</td>\n",
       "      <td>2.66395</td>\n",
       "      <td>3.35761</td>\n",
       "      <td>3.32328</td>\n",
       "      <td>3.07212</td>\n",
       "      <td>3.52525</td>\n",
       "      <td>4.75603</td>\n",
       "    </tr>\n",
       "  </tbody>\n",
       "</table>\n",
       "<p>152 rows × 24 columns</p>\n",
       "</div>"
      ],
      "text/plain": [
       "          0         1         2         3         4         5         6   \\\n",
       "0    XYDATA1  240.0000  245.0000  250.0000  255.0000  260.0000  265.0000   \n",
       "1        250  243.4220    0.0000    0.0000    0.0000    0.0000    0.0000   \n",
       "2        251  147.7220    0.0000    0.0000    0.0000    0.0000    0.0000   \n",
       "3        252   88.5131    0.0000    0.0000    0.0000    0.0000    0.0000   \n",
       "4        253   58.5342    0.0000    0.0000    0.0000    0.0000    0.0000   \n",
       "..       ...       ...       ...       ...       ...       ...       ...   \n",
       "147      396   34.7146   24.0361   19.8404   18.2831   18.0061   21.6931   \n",
       "148      397   35.6042   24.9160   20.1008   17.8679   17.9576   21.0134   \n",
       "149      398   35.8902   25.2825   20.2506   17.5917   17.7705   20.3869   \n",
       "150      399   36.1975   24.9185   19.9447   17.9200   17.4324   19.6805   \n",
       "151      400   36.6443   24.8142   20.1132   18.0498   17.2296   18.8465   \n",
       "\n",
       "           7         8         9   ...         14         15         16  \\\n",
       "0    270.0000  275.0000  280.0000  ...  305.00000  310.00000  315.00000   \n",
       "1      0.0000    0.0000    0.0000  ...    0.00000    0.00000    0.00000   \n",
       "2      0.0000    0.0000    0.0000  ...    0.00000    0.00000    0.00000   \n",
       "3      0.0000    0.0000    0.0000  ...    0.00000    0.00000    0.00000   \n",
       "4      0.0000    0.0000    0.0000  ...    0.00000    0.00000    0.00000   \n",
       "..        ...       ...       ...  ...        ...        ...        ...   \n",
       "147   24.8205   24.1487   23.3547  ...    2.51955    2.11692    2.04140   \n",
       "148   24.0698   23.6970   22.7701  ...    2.49453    2.11820    2.03742   \n",
       "149   23.4513   23.2890   22.2280  ...    2.49650    2.13446    2.02279   \n",
       "150   22.8174   23.0173   21.6444  ...    2.51309    2.18233    2.01207   \n",
       "151   22.3682   22.4821   21.0398  ...    2.53514    2.21012    1.98718   \n",
       "\n",
       "            17         18         19         20         21         22  \\\n",
       "0    320.00000  325.00000  330.00000  335.00000  340.00000  345.00000   \n",
       "1      0.00000    0.00000    0.00000    0.00000    0.00000    0.00000   \n",
       "2      0.00000    0.00000    0.00000    0.00000    0.00000    0.00000   \n",
       "3      0.00000    0.00000    0.00000    0.00000    0.00000    0.00000   \n",
       "4      0.00000    0.00000    0.00000    0.00000    0.00000    0.00000   \n",
       "..         ...        ...        ...        ...        ...        ...   \n",
       "147    2.11355    2.73878    3.39701    3.24041    3.24583    4.27608   \n",
       "148    2.11199    2.74647    3.40923    3.26989    3.20430    4.04668   \n",
       "149    2.10997    2.73708    3.41049    3.27512    3.15887    3.84407   \n",
       "150    2.12339    2.69523    3.39495    3.28778    3.11535    3.66849   \n",
       "151    2.13059    2.66395    3.35761    3.32328    3.07212    3.52525   \n",
       "\n",
       "            23  \n",
       "0    350.00000  \n",
       "1      0.00000  \n",
       "2      0.00000  \n",
       "3      0.00000  \n",
       "4      0.00000  \n",
       "..         ...  \n",
       "147    4.76376  \n",
       "148    4.87431  \n",
       "149    4.91890  \n",
       "150    4.88334  \n",
       "151    4.75603  \n",
       "\n",
       "[152 rows x 24 columns]"
      ]
     },
     "execution_count": 3,
     "metadata": {},
     "output_type": "execute_result"
    }
   ],
   "source": [
    "tabla = pd.read_csv('E2_3D_F0.txt', delimiter='\\t', skiprows=18, header=None, \n",
    "                   usecols=range(24))\n",
    "tabla"
   ]
  },
  {
   "cell_type": "code",
   "execution_count": 4,
   "metadata": {},
   "outputs": [
    {
     "name": "stdout",
     "output_type": "stream",
     "text": [
      "0 0.0 243.422 10.583565217391305 49.64132109077127\n",
      "1 0.0 147.722 6.422695652173913 30.125112907505937\n",
      "2 0.0 88.5131 3.8483956521739127 18.0505756169925\n",
      "3 0.0 58.5342 2.5449652173913044 11.936944963854629\n",
      "4 0.0 45.3501 1.9717434782608694 9.248296684763842\n",
      "5 0.0 179.02599999999998 9.540939130434783 37.0604972227108\n",
      "6 0.0 108.536 6.477652173913043 23.267056678654306\n",
      "7 0.0 67.5363 4.728917391304347 15.806746762851464\n",
      "8 0.0 43.9211 3.742473913043478 12.129794338706638\n",
      "9 0.0 44.1552 3.4061347826086954 11.13458595359166\n",
      "10 0.0 182.56799999999998 11.26956956521739 38.15335605772229\n",
      "11 0.0 107.104 7.987378260869565 23.86144804286971\n",
      "12 0.0 62.1945 6.09955652173913 16.397168972478827\n",
      "13 0.0 47.1108 5.246156521739131 13.681259124733714\n",
      "14 0.0 45.885 4.834173913043478 12.723326733558515\n",
      "15 0.0 162.515 11.719273913043478 34.43053780514461\n",
      "16 0.0 91.1536 8.555652173913044 21.43053857086374\n",
      "17 0.0 49.9054 6.697182608695653 15.10571598379818\n",
      "18 0.0 38.0289 5.712391304347825 12.655628524130837\n",
      "19 0.0 37.4092 5.2766782608695655 11.783621724128512\n",
      "20 0.0 86.1906 8.79873043478261 19.976029400551113\n",
      "21 0.0 51.3079 7.152565217391304 14.432950783314292\n",
      "22 0.0 33.5975 6.234304347826088 12.066120294065145\n",
      "23 0.0 32.0916 5.792813043478261 11.239384110168887\n"
     ]
    }
   ],
   "source": [
    "np_tabla = tabla.to_numpy()\n",
    "datos = np_tabla[1:,1:]\n",
    "for k in range(24):\n",
    "    print(k, datos[k].min(), datos[k].max(), datos[k].mean(), datos[k].std())"
   ]
  },
  {
   "cell_type": "code",
   "execution_count": 5,
   "metadata": {},
   "outputs": [],
   "source": [
    "np_tabla = tabla.to_numpy()"
   ]
  },
  {
   "cell_type": "code",
   "execution_count": 6,
   "metadata": {},
   "outputs": [
    {
     "data": {
      "text/plain": [
       "(152, 24)"
      ]
     },
     "execution_count": 6,
     "metadata": {},
     "output_type": "execute_result"
    }
   ],
   "source": [
    "np_tabla.shape"
   ]
  },
  {
   "cell_type": "code",
   "execution_count": 7,
   "metadata": {},
   "outputs": [
    {
     "data": {
      "text/plain": [
       "array(['XYDATA1', 240.0, 245.0, 250.0, 255.0, 260.0, 265.0, 270.0, 275.0,\n",
       "       280.0, 285.0, 290.0, 295.0, 300.0, 305.0, 310.0, 315.0, 320.0,\n",
       "       325.0, 330.0, 335.0, 340.0, 345.0, 350.0], dtype=object)"
      ]
     },
     "execution_count": 7,
     "metadata": {},
     "output_type": "execute_result"
    }
   ],
   "source": [
    "np_tabla[0,:]"
   ]
  },
  {
   "cell_type": "code",
   "execution_count": 23,
   "metadata": {},
   "outputs": [],
   "source": [
    "x = np_tabla[0,1:]"
   ]
  },
  {
   "cell_type": "code",
   "execution_count": 24,
   "metadata": {},
   "outputs": [
    {
     "data": {
      "text/plain": [
       "('250', str)"
      ]
     },
     "execution_count": 24,
     "metadata": {},
     "output_type": "execute_result"
    }
   ],
   "source": [
    "y = np_tabla[1:,0]\n",
    "y[0], type(y[0])"
   ]
  },
  {
   "cell_type": "code",
   "execution_count": 25,
   "metadata": {},
   "outputs": [
    {
     "data": {
      "text/plain": [
       "(250, numpy.int64)"
      ]
     },
     "execution_count": 25,
     "metadata": {},
     "output_type": "execute_result"
    }
   ],
   "source": [
    "y = np_tabla[1:,0].astype(np.int)\n",
    "y[0], type(y[0])"
   ]
  },
  {
   "cell_type": "code",
   "execution_count": 26,
   "metadata": {},
   "outputs": [],
   "source": [
    "X, Y = np.meshgrid(x, y)"
   ]
  },
  {
   "cell_type": "code",
   "execution_count": 39,
   "metadata": {},
   "outputs": [
    {
     "data": {
      "text/plain": [
       "(dtype('O'), float)"
      ]
     },
     "execution_count": 39,
     "metadata": {},
     "output_type": "execute_result"
    }
   ],
   "source": [
    "Z = np_tabla[1:,1:]\n",
    "Z.dtype, type(Z[0,0])"
   ]
  },
  {
   "cell_type": "code",
   "execution_count": 28,
   "metadata": {},
   "outputs": [
    {
     "data": {
      "text/plain": [
       "((151, 23), (151,), (23,))"
      ]
     },
     "execution_count": 28,
     "metadata": {},
     "output_type": "execute_result"
    }
   ],
   "source": [
    "Z.shape, y.shape, x.shape"
   ]
  },
  {
   "cell_type": "code",
   "execution_count": 29,
   "metadata": {},
   "outputs": [
    {
     "data": {
      "text/plain": [
       "True"
      ]
     },
     "execution_count": 29,
     "metadata": {},
     "output_type": "execute_result"
    }
   ],
   "source": [
    "Z.shape == (y.shape[0], x.shape[0])"
   ]
  },
  {
   "cell_type": "code",
   "execution_count": 30,
   "metadata": {},
   "outputs": [],
   "source": [
    "assert Z.shape == (y.shape[0], x.shape[0])"
   ]
  },
  {
   "cell_type": "code",
   "execution_count": 31,
   "metadata": {},
   "outputs": [],
   "source": [
    "from mpl_toolkits.mplot3d import Axes3D  # noqa: F401 unused import\n",
    "import matplotlib.pyplot as plt\n",
    "from matplotlib import cm"
   ]
  },
  {
   "cell_type": "code",
   "execution_count": 32,
   "metadata": {},
   "outputs": [
    {
     "data": {
      "text/plain": [
       "Text(0.5, 1.0, 'Simplest default with labels')"
      ]
     },
     "execution_count": 32,
     "metadata": {},
     "output_type": "execute_result"
    },
    {
     "data": {
      "image/png": "[encoded data removed]",
      "text/plain": [
       "<Figure size 432x288 with 1 Axes>"
      ]
     },
     "metadata": {
      "needs_background": "light"
     },
     "output_type": "display_data"
    }
   ],
   "source": [
    "fig, ax = plt.subplots()\n",
    "CS = ax.contour(X, Y, Z)\n",
    "ax.clabel(CS, inline=1, fontsize=10)\n",
    "ax.set_title('Simplest default with labels')"
   ]
  },
  {
   "cell_type": "code",
   "execution_count": 35,
   "metadata": {},
   "outputs": [
    {
     "data": {
      "text/plain": [
       "(-1.01, 1.01)"
      ]
     },
     "execution_count": 35,
     "metadata": {},
     "output_type": "execute_result"
    },
    {
     "data": {
      "image/png": "[encoded data removed]",
      "text/plain": [
       "<Figure size 432x288 with 1 Axes>"
      ]
     },
     "metadata": {
      "needs_background": "light"
     },
     "output_type": "display_data"
    }
   ],
   "source": [
    "Z1 = np.array(Z, dtype=np.float64)\n",
    "fig = plt.figure()\n",
    "ax = fig.add_subplot(1, 2, 1, projection='3d')\n",
    "surf = ax.plot_surface(X, Y, Z1, rstride=1, cstride=1, cmap=cm.viridis,\n",
    "                       linewidth=0, antialiased=False)\n",
    "ax.set_zlim3d(-1.01, 1.01)"
   ]
  },
  {
   "cell_type": "code",
   "execution_count": 43,
   "metadata": {},
   "outputs": [
    {
     "data": {
      "text/plain": [
       "<mpl_toolkits.mplot3d.art3d.Line3DCollection at 0x7f31eef59d30>"
      ]
     },
     "execution_count": 43,
     "metadata": {},
     "output_type": "execute_result"
    },
    {
     "data": {
      "image/png": "[encoded data removed]",
      "text/plain": [
       "<Figure size 432x288 with 1 Axes>"
      ]
     },
     "metadata": {
      "needs_background": "light"
     },
     "output_type": "display_data"
    }
   ],
   "source": [
    "fig = plt.figure()\n",
    "ax = fig.add_subplot(1, 2, 2, projection='3d')\n",
    "ax.plot_wireframe(X, Y, Z1, rstride=10, cstride=10)\n"
   ]
  },
  {
   "cell_type": "markdown",
   "metadata": {},
   "source": [
    "https://matplotlib.org/gallery/images_contours_and_fields/contour_demo.html#sphx-glr-gallery-images-contours-and-fields-contour-demo-py\n",
    "\n",
    "https://matplotlib.org/gallery/images_contours_and_fields/contour_label_demo.html#sphx-glr-gallery-images-contours-and-fields-contour-label-demo-py"
   ]
  }
 ],
 "metadata": {
  "kernelspec": {
   "display_name": "Python 3",
   "language": "python",
   "name": "python3"
  },
  "language_info": {
   "codemirror_mode": {
    "name": "ipython",
    "version": 3
   },
   "file_extension": ".py",
   "mimetype": "text/x-python",
   "name": "python",
   "nbconvert_exporter": "python",
   "pygments_lexer": "ipython3",
   "version": "3.7.3"
  }
 },
 "nbformat": 4,
 "nbformat_minor": 2
}
