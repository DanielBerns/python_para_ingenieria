{
 "metadata": {
  "language_info": {
   "codemirror_mode": {
    "name": "ipython",
    "version": 3
   },
   "file_extension": ".py",
   "mimetype": "text/x-python",
   "name": "python",
   "nbconvert_exporter": "python",
   "pygments_lexer": "ipython3",
   "version": "3.7.3-final"
  },
  "orig_nbformat": 2,
  "kernelspec": {
   "name": "python_defaultSpec_1598988162932",
   "display_name": "Python 3.7.3 32-bit"
  }
 },
 "nbformat": 4,
 "nbformat_minor": 2,
 "cells": [
  {
   "cell_type": "markdown",
   "metadata": {},
   "source": [
    "# Esto es una introducción al concepto de cuadernos interactivos\n",
    "\n",
    "Quizás conozcan los cuadernos de Mathematica o Maxima, donde podemos escribir ecuaciones y resolverlas, pero al momento de presentar a alguien nuestro trabajo necesitamos un formato más legible y ordenado. Para esto se pueden escribir distintas celdas y agregar comentarios dentro del mismo código. Pero la ventaja de los cuadernos es que nos permiten hacer anotaciones, ordenar por secciones, establecer títulos y subtítulos, cuadros y tablas, insertar imágenes, etc.\n",
    "\n",
    "Esto no quiere decir que no se pueda escribir código como en cualquier otro lenguaje de programación, pero nos permite poner *énfasis* a alguna parte de nuestro código, o dejar imagenes de lo que se espera obtener."
   ]
  },
  {
   "cell_type": "code",
   "execution_count": 3,
   "metadata": {
    "tags": []
   },
   "outputs": [
    {
     "output_type": "stream",
     "name": "stdout",
     "text": "Hola Mundo\n8\n"
    }
   ],
   "source": [
    "# Normalmente escribiriamos comentarios\n",
    "# que nos ayuden a entender lo que hicimos\n",
    "print(\"Hola Mundo\") #esta linea escribe en pantalla Hola Mundo\n",
    "# los comentarios no son interpretados entonces podemos escribirlos\n",
    "# donde más nos parezca conveniente.\n",
    "a = 2\n",
    "b = 6\n",
    "print(a + b)\n"
   ]
  },
  {
   "cell_type": "markdown",
   "metadata": {},
   "source": [
    "Cada celda puede ser ejecutada individualmente, pero debemos recordar que si una celda depende del resultado de una anterior, deben ejecutarse en orden."
   ]
  },
  {
   "cell_type": "code",
   "execution_count": 4,
   "metadata": {
    "tags": []
   },
   "outputs": [
    {
     "output_type": "stream",
     "name": "stdout",
     "text": "8\n"
    }
   ],
   "source": [
    "c = a + b\n",
    "print(c)"
   ]
  },
  {
   "cell_type": "markdown",
   "metadata": {},
   "source": [
    "Ahora reiniciemos el entorno presionando Ctrl+M y ejecutemos unicamente la celda de abajo:"
   ]
  },
  {
   "cell_type": "code",
   "execution_count": null,
   "metadata": {},
   "outputs": [],
   "source": [
    "print(c)"
   ]
  },
  {
   "cell_type": "markdown",
   "metadata": {},
   "source": [
    "Aparece un error indicando que c no está definido. Por eso siempre tenemos que tener cuidado al reiniciar un cuaderno, ya que se pierden todas las variables y debemos recordar de correr las celdas que necesitamos.\n",
    "\n",
    "Ahora, ¿Por qué trabajar ejecutando algunas celdas y no todo el cuaderno?\n",
    "\n",
    "Puede que algunas celdas sean necesarias una sola vez para descargar un archivo y al volver a ejecutarla estaríamos sobreescribiendolo. O también que una celda tome mucho tiempo en ejecutarse, debido a que se realizan muchas operaciones, y esto relentiza nuestro flujo de trabajo.\n",
    "\n",
    "Otra de las ventajas es que podemos ir mejorando poco a poco nuestro código y obtener resultados al instante, por ejemplo volvemos en otro momento a revisar el proyecto y se nos ocurrió hacer otro tipo de gráfica y no queremos ejecutar todo el programa porque lleva algunas horas de procesamiento..."
   ]
  },
  {
   "cell_type": "markdown",
   "metadata": {},
   "source": [
    "# Estilos de texto y secciones\n",
    "\n",
    "Podemos escribir un título si en un nuevo renglón escribimos un simbolo numeral, dejamos un espacio y escribimos. Esto resulta en un título. Para un subtítulo encadenamos dos numerales, un espacio y texto. Así hasta los sub-sub-subtitulos...\n",
    "\n",
    "## Esto es un subtítulo\n",
    "\n",
    "También podemos cambiar el *estilo de texto* usando la barra de texto que proporciona Colaboratory\n",
    "\n",
    "## Listas\n",
    "\n",
    "Podemos escribir una lista anteponiendo un asterisco y un espacio a un elemento\n",
    "\n",
    "* elemento1\n",
    "* elemento2\n",
    "\n",
    "Si vamos ordenando nuestro código en secciones luego podemos revisar a la izquierda el índica que se está generando. En caso de que un cuaderno sea muy extenso podemos saltar rápidamente."
   ]
  }
 ]
}