{
 "cells": [
  {
   "cell_type": "code",
   "execution_count": 1,
   "metadata": {},
   "outputs": [],
   "source": [
    "import pandas as pd"
   ]
  },
  {
   "cell_type": "code",
   "execution_count": 2,
   "metadata": {},
   "outputs": [],
   "source": [
    "df = pd.read_excel('/home/dberns/Data/pandas/ultimosMovimientos (2).xls', skiprows=4, usecols=[1, 2, 4, 6, 8])"
   ]
  },
  {
   "cell_type": "code",
   "execution_count": 3,
   "metadata": {},
   "outputs": [],
   "source": [
    "one = df.fillna(value=0)"
   ]
  },
  {
   "cell_type": "code",
   "execution_count": 4,
   "metadata": {},
   "outputs": [
    {
     "data": {
      "text/plain": [
       "Index(['Fecha', 'Descripción', 'Unnamed: 4', 'Unnamed: 6', 'Unnamed: 8'], dtype='object')"
      ]
     },
     "execution_count": 4,
     "metadata": {},
     "output_type": "execute_result"
    }
   ],
   "source": [
    "one.columns"
   ]
  },
  {
   "cell_type": "code",
   "execution_count": 5,
   "metadata": {},
   "outputs": [
    {
     "data": {
      "text/plain": [
       "pandas.core.series.Series"
      ]
     },
     "execution_count": 5,
     "metadata": {},
     "output_type": "execute_result"
    }
   ],
   "source": [
    "type(one.Fecha)"
   ]
  },
  {
   "cell_type": "code",
   "execution_count": 6,
   "metadata": {},
   "outputs": [
    {
     "data": {
      "text/html": [
       "<div>\n",
       "<style scoped>\n",
       "    .dataframe tbody tr th:only-of-type {\n",
       "        vertical-align: middle;\n",
       "    }\n",
       "\n",
       "    .dataframe tbody tr th {\n",
       "        vertical-align: top;\n",
       "    }\n",
       "\n",
       "    .dataframe thead th {\n",
       "        text-align: right;\n",
       "    }\n",
       "</style>\n",
       "<table border=\"1\" class=\"dataframe\">\n",
       "  <thead>\n",
       "    <tr style=\"text-align: right;\">\n",
       "      <th></th>\n",
       "      <th>Fecha</th>\n",
       "      <th>Descripción</th>\n",
       "    </tr>\n",
       "  </thead>\n",
       "  <tbody>\n",
       "    <tr>\n",
       "      <td>0</td>\n",
       "      <td>2019-11-04</td>\n",
       "      <td>PAGO DE SERVICIOS\\nCOMOD RIV</td>\n",
       "    </tr>\n",
       "    <tr>\n",
       "      <td>1</td>\n",
       "      <td>2019-11-04</td>\n",
       "      <td>PAGO DE SERVICIOS\\nCOMOD RIV</td>\n",
       "    </tr>\n",
       "    <tr>\n",
       "      <td>2</td>\n",
       "      <td>2019-11-04</td>\n",
       "      <td>PAGO DE SERVICIOS\\nCOMOD RIV</td>\n",
       "    </tr>\n",
       "    <tr>\n",
       "      <td>3</td>\n",
       "      <td>2019-11-04</td>\n",
       "      <td>PAGO DE SERVICIOS\\nCOMOD RIV</td>\n",
       "    </tr>\n",
       "    <tr>\n",
       "      <td>4</td>\n",
       "      <td>2019-11-04</td>\n",
       "      <td>COMPRAS PATAGONIA 24\\n</td>\n",
       "    </tr>\n",
       "    <tr>\n",
       "      <td>...</td>\n",
       "      <td>...</td>\n",
       "      <td>...</td>\n",
       "    </tr>\n",
       "    <tr>\n",
       "      <td>86</td>\n",
       "      <td>2019-09-25</td>\n",
       "      <td>COMPRAS PATAGONIA 24\\nSUPERMERCADOS LA ANONIMA</td>\n",
       "    </tr>\n",
       "    <tr>\n",
       "      <td>87</td>\n",
       "      <td>2019-09-24</td>\n",
       "      <td>PAGO DE SERVICIOS\\nPERSONAL</td>\n",
       "    </tr>\n",
       "    <tr>\n",
       "      <td>88</td>\n",
       "      <td>2019-09-23</td>\n",
       "      <td>COMPRAS PATAGONIA 24\\nPAN-PAS</td>\n",
       "    </tr>\n",
       "    <tr>\n",
       "      <td>89</td>\n",
       "      <td>2019-09-23</td>\n",
       "      <td>COMPRAS PATAGONIA 24\\nGRAN FERIA EL $ JUSTO</td>\n",
       "    </tr>\n",
       "    <tr>\n",
       "      <td>90</td>\n",
       "      <td>NaT</td>\n",
       "      <td>(*) S.E.U.O</td>\n",
       "    </tr>\n",
       "  </tbody>\n",
       "</table>\n",
       "<p>91 rows × 2 columns</p>\n",
       "</div>"
      ],
      "text/plain": [
       "        Fecha                                     Descripción\n",
       "0  2019-11-04                    PAGO DE SERVICIOS\\nCOMOD RIV\n",
       "1  2019-11-04                    PAGO DE SERVICIOS\\nCOMOD RIV\n",
       "2  2019-11-04                    PAGO DE SERVICIOS\\nCOMOD RIV\n",
       "3  2019-11-04                    PAGO DE SERVICIOS\\nCOMOD RIV\n",
       "4  2019-11-04                          COMPRAS PATAGONIA 24\\n\n",
       "..        ...                                             ...\n",
       "86 2019-09-25  COMPRAS PATAGONIA 24\\nSUPERMERCADOS LA ANONIMA\n",
       "87 2019-09-24                     PAGO DE SERVICIOS\\nPERSONAL\n",
       "88 2019-09-23                   COMPRAS PATAGONIA 24\\nPAN-PAS\n",
       "89 2019-09-23     COMPRAS PATAGONIA 24\\nGRAN FERIA EL $ JUSTO\n",
       "90        NaT                                     (*) S.E.U.O\n",
       "\n",
       "[91 rows x 2 columns]"
      ]
     },
     "execution_count": 6,
     "metadata": {},
     "output_type": "execute_result"
    }
   ],
   "source": [
    "df[['Fecha', 'Descripción']]"
   ]
  },
  {
   "cell_type": "code",
   "execution_count": null,
   "metadata": {},
   "outputs": [],
   "source": []
  }
 ],
 "metadata": {
  "kernelspec": {
   "display_name": "Python 3",
   "language": "python",
   "name": "python3"
  },
  "language_info": {
   "codemirror_mode": {
    "name": "ipython",
    "version": 3
   },
   "file_extension": ".py",
   "mimetype": "text/x-python",
   "name": "python",
   "nbconvert_exporter": "python",
   "pygments_lexer": "ipython3",
   "version": "3.7.3"
  }
 },
 "nbformat": 4,
 "nbformat_minor": 2
}
