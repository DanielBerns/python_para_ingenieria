{
 "cells": [
  {
   "cell_type": "markdown",
   "metadata": {},
   "source": [
    "# Módulos\n",
    "\n",
    "Cuando definimos clases, el código suele ser bastante largo. Esto suele complicar la lectura de los programas y su corrección. Por eso, los programas pueden dividirse en partes que, en Python, se denominan módulos. \n",
    "\n",
    "Para usar módulos de Python, necesitamos importarlos con el comando **import**"
   ]
  },
  {
   "cell_type": "markdown",
   "metadata": {},
   "source": [
    "## Como definimos un módulo\n",
    "\n",
    "Ver el archivo personas.py"
   ]
  },
  {
   "cell_type": "markdown",
   "metadata": {},
   "source": [
    "## Importamos un módulo"
   ]
  },
  {
   "cell_type": "code",
   "execution_count": 1,
   "metadata": {
    "collapsed": true
   },
   "outputs": [],
   "source": [
    "import personas"
   ]
  },
  {
   "cell_type": "markdown",
   "metadata": {},
   "source": [
    "## Escribimos el código del cuaderno anterior empleando el módulo personas recién importado"
   ]
  },
  {
   "cell_type": "code",
   "execution_count": 2,
   "metadata": {},
   "outputs": [
    {
     "name": "stdout",
     "output_type": "stream",
     "text": [
      "<class 'personas.Docente'>\n",
      "Nombre Esteban\n",
      "Nacimiento [28, 7, 1991]\n"
     ]
    }
   ],
   "source": [
    "docentes = []\n",
    "\n",
    "# Vamos a crear un objeto de clase Docente\n",
    "red = personas.Docente([11, 12, 1962], 'Esteban', 'Lopez', 'El Patagónico 1274')\n",
    "\n",
    "print(type(red))\n",
    "\n",
    "red.agregar_curso('Señales y Sistemas')\n",
    "red.agregar_curso('Python')\n",
    "\n",
    "# Creamos otro objeto de clase Docente\n",
    "blue = personas.Docente([28, 7, 1991], 'Elena', 'Sara', 'Costanera 1978')\n",
    "blue.agregar_curso('Pedagogia')\n",
    "\n",
    "# EXPLICA_CAMPO\n",
    "# Podemos acceder a los campos directamente\n",
    "print(f'Nombre {red._nombre:s}')\n",
    "print(f'Nacimiento {str(blue._nacimiento):s}')\n",
    "# El caracter _ adelante del nombre en los campos nos sirve para diferenciar campos y métodos"
   ]
  },
  {
   "cell_type": "code",
   "execution_count": 3,
   "metadata": {},
   "outputs": [
    {
     "name": "stdout",
     "output_type": "stream",
     "text": [
      "--------------------------------------------------------------------------------\n",
      "Nacimiento 11:12:1962\n",
      "Nombre y apellido: Esteban Lopez\n",
      "Domicilio: El Patagónico 1274\n",
      "Docente: Señales y Sistemas\n",
      "Docente: Python\n",
      "--------------------------------------------------------------------------------\n",
      "Nacimiento 28: 7:1991\n",
      "Nombre y apellido: Elena Sara\n",
      "Domicilio: Costanera 1978\n",
      "Docente: Pedagogia\n"
     ]
    }
   ],
   "source": [
    "red.escribir()\n",
    "blue.escribir()"
   ]
  },
  {
   "cell_type": "code",
   "execution_count": 4,
   "metadata": {},
   "outputs": [
    {
     "name": "stdout",
     "output_type": "stream",
     "text": [
      "--------------------------------------------------------------------------------\n",
      "Nacimiento  1: 1:2000\n",
      "Nombre y apellido: Esteban Lopéz\n",
      "Domicilio: San Martín 1254\n",
      "--------------------------------------------------------------------------------\n",
      "Nacimiento  2: 2:2000\n",
      "Nombre y apellido: Elsa Goméz\n",
      "Domicilio: Belgrano 256\n",
      "--------------------------------------------------------------------------------\n",
      "Nacimiento  3: 3:2000\n",
      "Nombre y apellido: Elena Nievas\n",
      "Domicilio: Maipú 138\n"
     ]
    }
   ],
   "source": [
    "nacimientos = [[1,1,2000], [2,2,2000], [3,3,2000]]\n",
    "nombres = ['Esteban', 'Elsa', 'Elena']\n",
    "apellidos = ['Lopéz', 'Goméz', 'Nievas']\n",
    "domicilios = ['San Martín 1254', 'Belgrano 256', 'Maipú 138']\n",
    "\n",
    "estudiantes = []\n",
    "for nac, nom, ape, dom in zip(nacimientos, nombres, apellidos, domicilios):\n",
    "    estudiantes.append(personas.Estudiante(nac, nom, ape, dom))\n",
    "    \n",
    "for un_estudiante in estudiantes:\n",
    "    un_estudiante.escribir()"
   ]
  },
  {
   "cell_type": "markdown",
   "metadata": {
    "collapsed": true
   },
   "source": [
    "Como podemos ver, emplear módulos permite escribir programas más cortos y legibles. Es más facil entender la misma cantidad de líneas de código si están repartidas en varios módulos.\n",
    "\n",
    "Además, podemos reusar módulos en diferentes programas y así ahorramos tiempo y esfuerzo"
   ]
  },
  {
   "cell_type": "code",
   "execution_count": null,
   "metadata": {
    "collapsed": true
   },
   "outputs": [],
   "source": []
  }
 ],
 "metadata": {
  "kernelspec": {
   "display_name": "Python 3",
   "language": "python",
   "name": "python3"
  },
  "language_info": {
   "codemirror_mode": {
    "name": "ipython",
    "version": 3
   },
   "file_extension": ".py",
   "mimetype": "text/x-python",
   "name": "python",
   "nbconvert_exporter": "python",
   "pygments_lexer": "ipython3",
   "version": "3.6.5"
  }
 },
 "nbformat": 4,
 "nbformat_minor": 2
}
